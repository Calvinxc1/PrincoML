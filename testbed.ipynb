{
 "cells": [
  {
   "cell_type": "code",
   "execution_count": 1,
   "metadata": {},
   "outputs": [],
   "source": [
    "import pandas as pd\n",
    "import numpy as np\n",
    "import torch as pt\n",
    "from scipy.linalg import qr\n",
    "import matplotlib.pyplot as plt\n",
    "%matplotlib inline\n",
    "\n",
    "from ml_lib.clusters.data_cluster import DataCluster as Data\n",
    "from ml_lib.clusters.dense_cluster import DenseCluster as Dense\n",
    "from ml_lib.controllers.controller import Controller as Control\n",
    "\n",
    "from ml_lib.utils import learners, inits, activators\n",
    "\n",
    "#pt.set_default_tensor_type('torch.FloatTensor')\n",
    "pt.set_default_tensor_type('torch.cuda.FloatTensor')"
   ]
  },
  {
   "cell_type": "code",
   "execution_count": 2,
   "metadata": {},
   "outputs": [],
   "source": [
    "dataset = pd.read_csv(\n",
    "    'data_files/kc_house_data.csv',\n",
    "    index_col = 'id', parse_dates = ['date'], date_parser = lambda x: pd.datetime.strptime(x, '%Y%m%dT%H%M%S')\n",
    ")\n",
    "dataset = dataset[[col for col in dataset.columns if not col.endswith('15')]]"
   ]
  },
  {
   "cell_type": "code",
   "execution_count": 3,
   "metadata": {},
   "outputs": [],
   "source": [
    "feature_cols = ['sqft_living', 'bedrooms', 'bathrooms']\n",
    "target_cols = ['price']\n",
    "\n",
    "learner = learners.ADAM\n",
    "learn_params = {\n",
    "    'learn_rate': 1e-0,\n",
    "    'scale_features': True\n",
    "}\n",
    "\n",
    "init = inits.Orthogonal\n",
    "init_params = {\n",
    "    'xavier': True\n",
    "}\n",
    "\n",
    "activator = activators.ReLU\n",
    "activator_params = {}\n",
    "\n",
    "control = Control()\n",
    "control.add_cluster(\n",
    "    Data('data_cluster', dataset[feature_cols + target_cols])\n",
    ")\n",
    "control.add_link(\n",
    "    Dense(\n",
    "        'reg_cluster_1',\n",
    "        512,\n",
    "        weight_init = init, weight_init_params = init_params,\n",
    "        activator = activator, activator_params = activator_params,\n",
    "        learner = learner, learner_params = learn_params\n",
    "    ),\n",
    "    'data_cluster', 'input', data_cols = feature_cols\n",
    ")\n",
    "control.add_link(\n",
    "    Dense(\n",
    "        'reg_cluster_2',\n",
    "        128,\n",
    "        weight_init = init, weight_init_params = init_params,\n",
    "        activator = activator, activator_params = activator_params,\n",
    "        learner = learner, learner_params = learn_params\n",
    "    ),\n",
    "    'reg_cluster_1', 'input'\n",
    ")\n",
    "control.add_link(\n",
    "    Dense(\n",
    "        'reg_cluster_3',\n",
    "        32,\n",
    "        weight_init = init, weight_init_params = init_params,\n",
    "        activator = activator, activator_params = activator_params,\n",
    "        learner = learner, learner_params = learn_params\n",
    "    ),\n",
    "    'reg_cluster_2', 'input'\n",
    ")\n",
    "control.add_link(\n",
    "    Dense(\n",
    "        'reg_cluster_out',\n",
    "        1,\n",
    "        weight_init = init, weight_init_params = init_params,\n",
    "        learner = learner, learner_params = learn_params\n",
    "    ),\n",
    "    'reg_cluster_3', 'input'\n",
    ")\n",
    "control.link_clusters('reg_cluster_out', 'data_cluster', data_cols = target_cols)\n",
    "control.init_clusters()"
   ]
  },
  {
   "cell_type": "code",
   "execution_count": 4,
   "metadata": {
    "scrolled": true
   },
   "outputs": [
    {
     "data": {
      "application/vnd.jupyter.widget-view+json": {
       "model_id": "ed98cdde6f984c908476bd35cd316420",
       "version_major": 2,
       "version_minor": 0
      },
      "text/plain": [
       "HBox(children=(IntProgress(value=0, max=1000), HTML(value='')))"
      ]
     },
     "metadata": {},
     "output_type": "display_data"
    },
    {
     "name": "stdout",
     "output_type": "stream",
     "text": [
      "\n"
     ]
    }
   ],
   "source": [
    "control.train_model(1000)"
   ]
  },
  {
   "cell_type": "code",
   "execution_count": 11,
   "metadata": {},
   "outputs": [
    {
     "data": {
      "text/plain": [
       "-394273.06"
      ]
     },
     "execution_count": 11,
     "metadata": {},
     "output_type": "execute_result"
    }
   ],
   "source": [
    "pd.Series(control.loss_record).diff()[1:].sum()"
   ]
  }
 ],
 "metadata": {
  "kernelspec": {
   "display_name": "Python 3",
   "language": "python",
   "name": "python3"
  },
  "language_info": {
   "codemirror_mode": {
    "name": "ipython",
    "version": 3
   },
   "file_extension": ".py",
   "mimetype": "text/x-python",
   "name": "python",
   "nbconvert_exporter": "python",
   "pygments_lexer": "ipython3",
   "version": "3.6.6"
  }
 },
 "nbformat": 4,
 "nbformat_minor": 2
}
