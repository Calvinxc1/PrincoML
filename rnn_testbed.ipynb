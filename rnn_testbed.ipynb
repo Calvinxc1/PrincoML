{
 "cells": [
  {
   "cell_type": "code",
   "execution_count": 1,
   "metadata": {},
   "outputs": [],
   "source": [
    "import pandas as pd\n",
    "import numpy as np\n",
    "import torch as pt\n",
    "import tqdm\n",
    "from scipy.linalg import qr\n",
    "import matplotlib.pyplot as plt\n",
    "%matplotlib inline\n",
    "\n",
    "#from ml_lib.clusters.root_cluster import RootCluster as Root\n",
    "from ml_lib.clusters.data_cluster import DataCluster as Data\n",
    "from ml_lib.clusters.dense_cluster import DenseCluster as Dense\n",
    "from ml_lib.clusters.recurse_cluster import RecurseCluster as Recurse\n",
    "from ml_lib.clusters.merge_cluster import MergeCluster as Merge\n",
    "from ml_lib.controllers.controller import Controller as Control\n",
    "\n",
    "from ml_lib.utils import learners, inits, activators\n",
    "\n",
    "pt.set_default_tensor_type('torch.FloatTensor')\n",
    "#pt.set_default_tensor_type('torch.cuda.FloatTensor')"
   ]
  },
  {
   "cell_type": "code",
   "execution_count": null,
   "metadata": {},
   "outputs": [],
   "source": []
  },
  {
   "cell_type": "code",
   "execution_count": 2,
   "metadata": {},
   "outputs": [],
   "source": [
    "dataset = pd.read_csv('data_files/market_data.csv', index_col = 'record_date')\n",
    "dataset = pd.DataFrame(index = pd.date_range(dataset.index.min(), dataset.index.max())).join(\n",
    "    dataset, how = 'left'\n",
    ").fillna(method = 'ffill').fillna(method = 'bfill')\n",
    "\n",
    "offset_suffix = 'next'\n",
    "dataset = dataset.join(dataset.shift(), how = 'left', rsuffix = '_%s' % offset_suffix).dropna()"
   ]
  },
  {
   "cell_type": "code",
   "execution_count": 3,
   "metadata": {},
   "outputs": [],
   "source": [
    "feature_cols = ['avg_price']\n",
    "target_cols = ['%s_%s' % (col, offset_suffix) for col in feature_cols]"
   ]
  },
  {
   "cell_type": "code",
   "execution_count": 4,
   "metadata": {},
   "outputs": [],
   "source": [
    "init = inits.Orthogonal\n",
    "init_params = {\n",
    "    'xavier': True\n",
    "}\n",
    "\n",
    "learner = learners.ADAM\n",
    "learn_params = {\n",
    "    'learn_rate': 1e-1,\n",
    "    'scale_features': True\n",
    "}\n",
    "\n",
    "control = Control()\n",
    "control.add_cluster(\n",
    "    Data('data_cluster', dataset[feature_cols + target_cols])\n",
    ")\n",
    "control.add_link(\n",
    "    Recurse(\n",
    "        'recurse_cluster',\n",
    "        learner = learner, learner_params = learn_params\n",
    "    ),\n",
    "    'data_cluster', 'input', data_cols = feature_cols\n",
    ")\n",
    "control.link_clusters('recurse_cluster', 'data_cluster', data_cols = target_cols)\n",
    "control.init_clusters()"
   ]
  },
  {
   "cell_type": "code",
   "execution_count": null,
   "metadata": {},
   "outputs": [
    {
     "data": {
      "application/vnd.jupyter.widget-view+json": {
       "model_id": "b764ba85f3f04ffeb9119fbe467e54db",
       "version_major": 2,
       "version_minor": 0
      },
      "text/plain": [
       "HBox(children=(IntProgress(value=0, max=250), HTML(value='')))"
      ]
     },
     "metadata": {},
     "output_type": "display_data"
    }
   ],
   "source": [
    "control.train_model(250)"
   ]
  },
  {
   "cell_type": "code",
   "execution_count": null,
   "metadata": {},
   "outputs": [],
   "source": [
    "plt.plot(control.loss_record[:])"
   ]
  },
  {
   "cell_type": "code",
   "execution_count": null,
   "metadata": {},
   "outputs": [],
   "source": [
    "control.clusters['recurse_cluster'].coefs"
   ]
  }
 ],
 "metadata": {
  "kernelspec": {
   "display_name": "Python 3",
   "language": "python",
   "name": "python3"
  },
  "language_info": {
   "codemirror_mode": {
    "name": "ipython",
    "version": 3
   },
   "file_extension": ".py",
   "mimetype": "text/x-python",
   "name": "python",
   "nbconvert_exporter": "python",
   "pygments_lexer": "ipython3",
   "version": "3.6.5"
  }
 },
 "nbformat": 4,
 "nbformat_minor": 2
}
