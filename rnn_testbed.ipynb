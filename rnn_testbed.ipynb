{
 "cells": [
  {
   "cell_type": "code",
   "execution_count": 1,
   "metadata": {},
   "outputs": [],
   "source": [
    "import pandas as pd\n",
    "import numpy as np\n",
    "import torch as pt\n",
    "import tqdm\n",
    "from scipy.linalg import qr\n",
    "import matplotlib.pyplot as plt\n",
    "%matplotlib inline\n",
    "\n",
    "#from ml_lib.clusters.root_cluster import RootCluster as Root\n",
    "from ml_lib.clusters.data_cluster import DataCluster as Data\n",
    "from ml_lib.clusters.dense_cluster import DenseCluster as Dense\n",
    "from ml_lib.clusters.recurse_cluster import RecurseCluster as Recurse\n",
    "from ml_lib.clusters.merge_cluster import MergeCluster as Merge\n",
    "from ml_lib.controllers.controller import Controller as Control\n",
    "\n",
    "from ml_lib.utils import learners, inits, activators, recursors\n",
    "\n",
    "pt.set_default_tensor_type('torch.FloatTensor')\n",
    "#pt.set_default_tensor_type('torch.cuda.FloatTensor')"
   ]
  },
  {
   "cell_type": "code",
   "execution_count": 2,
   "metadata": {},
   "outputs": [],
   "source": [
    "dataset = pd.read_csv('data_files/market_data.csv', index_col = 'record_date')\n",
    "dataset = pd.DataFrame(index = pd.date_range(dataset.index.min(), dataset.index.max())).join(\n",
    "    dataset, how = 'left'\n",
    ").fillna(method = 'ffill').fillna(method = 'bfill')\n",
    "\n",
    "offset_suffix = 'next'\n",
    "dataset = dataset.join(dataset.shift(), how = 'left', rsuffix = '_%s' % offset_suffix).dropna()"
   ]
  },
  {
   "cell_type": "code",
   "execution_count": 3,
   "metadata": {},
   "outputs": [],
   "source": [
    "feature_cols = ['avg_price']\n",
    "target_cols = ['%s_%s' % (col, offset_suffix) for col in feature_cols]"
   ]
  },
  {
   "cell_type": "code",
   "execution_count": 9,
   "metadata": {},
   "outputs": [],
   "source": [
    "init = inits.Orthogonal\n",
    "init_params = {\n",
    "    'xavier': True\n",
    "}\n",
    "\n",
    "learner = learners.ADAM\n",
    "learner_params = {\n",
    "    'learn_rate': 1e-1,\n",
    "    'scale_features': True\n",
    "}\n",
    "\n",
    "control = Control()\n",
    "control.add_cluster(\n",
    "    Data('data_cluster', dataset[feature_cols + target_cols])\n",
    ")\n",
    "control.add_link(\n",
    "    Recurse(\n",
    "        'recurse_cluster',\n",
    "        recursor = recursors.DoubleSmooth, recursor_params = {\n",
    "            'return_types': ['level', 'trend'],\n",
    "            'return_horizons': [0, 1]\n",
    "        },\n",
    "        learner = learner, learner_params = learner_params\n",
    "    ),\n",
    "    'data_cluster', 'input', data_cols = feature_cols\n",
    ")\n",
    "control.add_link(\n",
    "    Dense(\n",
    "        'dense_cluster',\n",
    "        1,\n",
    "        weight_init = init, weight_init_params = init_params,\n",
    "        learner = learner, learner_params = {**learner_params, 'learn_rate': 1e-2}\n",
    "    ),\n",
    "    'recurse_cluster', 'input'\n",
    ")\n",
    "control.link_clusters('dense_cluster', 'data_cluster', data_cols = target_cols)\n",
    "control.init_clusters()"
   ]
  },
  {
   "cell_type": "code",
   "execution_count": 10,
   "metadata": {},
   "outputs": [
    {
     "data": {
      "application/vnd.jupyter.widget-view+json": {
       "model_id": "bf93d34747f14122b616352114e8011e",
       "version_major": 2,
       "version_minor": 0
      },
      "text/plain": [
       "HBox(children=(IntProgress(value=0, max=1000), HTML(value='')))"
      ]
     },
     "metadata": {},
     "output_type": "display_data"
    },
    {
     "name": "stdout",
     "output_type": "stream",
     "text": [
      "\n"
     ]
    }
   ],
   "source": [
    "control.train_model(1000)"
   ]
  },
  {
   "cell_type": "code",
   "execution_count": 11,
   "metadata": {},
   "outputs": [
    {
     "data": {
      "text/plain": [
       "[<matplotlib.lines.Line2D at 0x7feeec6838d0>]"
      ]
     },
     "execution_count": 11,
     "metadata": {},
     "output_type": "execute_result"
    },
    {
     "data": {
      "image/png": "[encoded data removed]",
      "text/plain": [
       "<Figure size 1152x720 with 1 Axes>"
      ]
     },
     "metadata": {},
     "output_type": "display_data"
    }
   ],
   "source": [
    "plt.figure(figsize = (16, 10))\n",
    "plt.plot(control.loss_record)"
   ]
  },
  {
   "cell_type": "code",
   "execution_count": 12,
   "metadata": {},
   "outputs": [
    {
     "data": {
      "text/plain": [
       "[('level_balance', tensor([-0.1569])),\n",
       " ('trend_balance', tensor([-11.7534])),\n",
       " ('level_seed', tensor([2.6369])),\n",
       " ('trend_seed', tensor([-2.9723]))]"
      ]
     },
     "execution_count": 12,
     "metadata": {},
     "output_type": "execute_result"
    }
   ],
   "source": [
    "control.clusters['recurse_cluster'].coefs"
   ]
  },
  {
   "cell_type": "code",
   "execution_count": 13,
   "metadata": {},
   "outputs": [
    {
     "data": {
      "text/plain": [
       "{'weights': tensor([[ 0.3902],\n",
       "         [ 0.3078],\n",
       "         [ 0.0017],\n",
       "         [-0.4522]]), 'bias': tensor([[0.7663]])}"
      ]
     },
     "execution_count": 13,
     "metadata": {},
     "output_type": "execute_result"
    }
   ],
   "source": [
    "control.clusters['dense_cluster'].coefs"
   ]
  }
 ],
 "metadata": {
  "kernelspec": {
   "display_name": "Python 3",
   "language": "python",
   "name": "python3"
  },
  "language_info": {
   "codemirror_mode": {
    "name": "ipython",
    "version": 3
   },
   "file_extension": ".py",
   "mimetype": "text/x-python",
   "name": "python",
   "nbconvert_exporter": "python",
   "pygments_lexer": "ipython3",
   "version": "3.6.5"
  }
 },
 "nbformat": 4,
 "nbformat_minor": 2
}
