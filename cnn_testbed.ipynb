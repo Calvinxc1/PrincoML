{
 "cells": [
  {
   "cell_type": "code",
   "execution_count": 1,
   "metadata": {},
   "outputs": [],
   "source": [
    "import pandas as pd\n",
    "import numpy as np\n",
    "import torch as pt\n",
    "from copy import deepcopy as copy\n",
    "import matplotlib.pyplot as plt\n",
    "import princo_ml as pml\n",
    "\n",
    "#pt.set_default_tensor_type('torch.FloatTensor')\n",
    "pt.set_default_tensor_type('torch.cuda.FloatTensor')"
   ]
  },
  {
   "cell_type": "code",
   "execution_count": 2,
   "metadata": {},
   "outputs": [],
   "source": [
    "from princo_ml.controllers.Controller import Controller as Control\n",
    "from princo_ml.clusters.DataCluster import DataCluster as Data\n",
    "from princo_ml.clusters.LearnCluster import LearnCluster as Learn"
   ]
  },
  {
   "cell_type": "code",
   "execution_count": 3,
   "metadata": {},
   "outputs": [],
   "source": [
    "from princo_ml.utils.learn_modules.learners.GradientLearner import GradientLearner\n",
    "from princo_ml.utils.learn_modules.learners.NewtonLearner import NewtonLearner\n",
    "from princo_ml.utils.learn_modules.learners.MomentumLearner import MomentumLearner\n",
    "from princo_ml.utils.learn_modules.learners.SmoothLearner import SmoothLearner\n",
    "\n",
    "from princo_ml.utils.learn_modules.activators.LinearActivate import LinearActivate\n",
    "from princo_ml.utils.learn_modules.activators.SigmoidActivate import SigmoidActivate\n",
    "from princo_ml.utils.learn_modules.activators.SoftMaxActivate import SoftMaxActivate\n",
    "from princo_ml.utils.learn_modules.activators.TanhActivator import TanhActivator\n",
    "from princo_ml.utils.learn_modules.activators.ReluActivator import ReluActivator\n",
    "\n",
    "from princo_ml.utils.losses.CrossEntLoss import CrossEntLoss\n",
    "\n",
    "from princo_ml.utils.splitters.BalanceSplit import BalanceSplit\n",
    "from princo_ml.utils.batchers.LowestBatch import LowestBatch\n",
    "\n",
    "from princo_ml.utils.learn_modules.DenseHingeModule import DenseHingeModule"
   ]
  },
  {
   "cell_type": "code",
   "execution_count": 4,
   "metadata": {},
   "outputs": [],
   "source": [
    "dataset = pd.get_dummies(pd.read_csv('data_files/mnist_train.csv'), columns = ['label'])\n",
    "test_dataset = pd.read_csv('data_files/mnist_test.csv')\n",
    "feature_cols = [col for col in dataset.columns if col.startswith('pixel')]\n",
    "target_cols = [col for col in dataset.columns if col.startswith('label_')]\n",
    "dataset[feature_cols] = dataset[feature_cols] / dataset[feature_cols].max().max()"
   ]
  },
  {
   "cell_type": "code",
   "execution_count": 5,
   "metadata": {},
   "outputs": [],
   "source": [
    "verbose = False\n",
    "\n",
    "nesterov = True\n",
    "\n",
    "learner = SmoothLearner\n",
    "learn_rate_kwargs = {\n",
    "    'seed_learn': 1e-1\n",
    "}\n",
    "\n",
    "loss = CrossEntLoss\n",
    "loss_kwargs = {\n",
    "    'mean': True\n",
    "}\n",
    "\n",
    "activator = TanhActivator\n",
    "activator_kwargs = {\n",
    "    #'leak': 0.05\n",
    "}\n",
    "\n",
    "hinger = DenseHingeModule\n",
    "hinges = 5\n",
    "\n",
    "splitter = BalanceSplit\n",
    "splitter_kwargs = {\n",
    "    'balance_cols': dataset[feature_cols + target_cols].columns.isin(target_cols).nonzero()[0]\n",
    "}\n",
    "\n",
    "batcher = LowestBatch\n",
    "batcher_kwargs = {}\n",
    "\n",
    "control = Control('regression_controller')\n",
    "\n",
    "control.add_cluster(\n",
    "    Data(\n",
    "        'data_cluster',\n",
    "        dataset[feature_cols + target_cols],\n",
    "        splitter = splitter,\n",
    "        splitter_kwargs = {'verbose': verbose, **splitter_kwargs},\n",
    "        batcher = batcher,\n",
    "        batcher_kwargs = {'verbose': verbose, **batcher_kwargs},\n",
    "        loss = loss, loss_kwargs = {'verbose': verbose, **loss_kwargs},\n",
    "        loss_combiner_kwargs = {'verbose': verbose},\n",
    "        verbose = verbose\n",
    "    )\n",
    ")\n",
    "\"\"\"\n",
    "control.link_add(\n",
    "    Learn(\n",
    "        'learn_cluster_1',\n",
    "        module = hinger,\n",
    "        module_kwargs = {\n",
    "            'nodes': 128,\n",
    "            'hinges': hinges,\n",
    "            'verbose': verbose, 'nesterov': nesterov,\n",
    "            'bias_init_kwargs': {'verbose': verbose},\n",
    "            'weight_init_kwargs': {'verbose': verbose},\n",
    "            'combiner_kwargs': {'verbose': verbose},\n",
    "            'activator': activator, 'activator_kwargs': {'verbose': verbose, **activator_kwargs},\n",
    "            'learner': learner, 'learner_kwargs': {'verbose': verbose},\n",
    "            'learn_rate_kwargs': {'verbose': verbose, **learn_rate_kwargs}\n",
    "        },\n",
    "        verbose = verbose\n",
    "    ),\n",
    "    'data_cluster', 'input', data_cols = feature_cols\n",
    ")\n",
    "\n",
    "control.link_add(\n",
    "    Learn(\n",
    "        'learn_cluster_2',\n",
    "        module_kwargs = {\n",
    "            'nodes': 32,\n",
    "            'verbose': verbose, 'nesterov': nesterov,\n",
    "            'bias_init_kwargs': {'verbose': verbose},\n",
    "            'weight_init_kwargs': {'verbose': verbose},\n",
    "            'combiner_kwargs': {'verbose': verbose},\n",
    "            'activator': activator, 'activator_kwargs': {'verbose': verbose, **activator_kwargs},\n",
    "            'learner': learner, 'learner_kwargs': {'verbose': verbose},\n",
    "            'learn_rate_kwargs': {'verbose': verbose, **learn_rate_kwargs}\n",
    "        },\n",
    "        verbose = verbose\n",
    "    ),\n",
    "    'learn_cluster_1', 'input'\n",
    ")\n",
    "\"\"\"\n",
    "control.link_add(\n",
    "    Learn(\n",
    "        'learn_cluster_out',\n",
    "        module_kwargs = {\n",
    "            'nodes': len(target_cols),\n",
    "            'verbose': verbose, 'nesterov': nesterov,\n",
    "            'bias_init_kwargs': {'verbose': verbose},\n",
    "            'weight_init_kwargs': {'verbose': verbose},\n",
    "            'combiner_kwargs': {'verbose': verbose},\n",
    "            'activator': SoftMaxActivate, 'activator_kwargs': {'verbose': verbose},\n",
    "            'learner': learner, 'learner_kwargs': {'verbose': verbose},\n",
    "            'learn_rate_kwargs': {'verbose': verbose, **learn_rate_kwargs}\n",
    "        },\n",
    "        verbose = verbose\n",
    "    ),\n",
    "    #'learn_cluster_2', 'input'\n",
    "    'data_cluster', 'input', data_cols = feature_cols\n",
    ")\n",
    "\n",
    "control.link_clusters('learn_cluster_out', 'data_cluster', data_cols = target_cols)\n",
    "\n",
    "control.enable_network()"
   ]
  },
  {
   "cell_type": "code",
   "execution_count": 6,
   "metadata": {},
   "outputs": [
    {
     "data": {
      "application/vnd.jupyter.widget-view+json": {
       "model_id": "38860d605cc446fa9f18533c3c99de4a",
       "version_major": 2,
       "version_minor": 0
      },
      "text/plain": [
       "HBox(children=(IntProgress(value=0, max=10000), HTML(value='')))"
      ]
     },
     "metadata": {},
     "output_type": "display_data"
    },
    {
     "name": "stdout",
     "output_type": "stream",
     "text": [
      "\n"
     ]
    }
   ],
   "source": [
    "control.train_model(10000)"
   ]
  },
  {
   "cell_type": "code",
   "execution_count": 7,
   "metadata": {},
   "outputs": [
    {
     "data": {
      "image/png": "[encoded data removed]",
      "text/plain": [
       "<Figure size 1152x720 with 1 Axes>"
      ]
     },
     "metadata": {},
     "output_type": "display_data"
    }
   ],
   "source": [
    "control.plot_losses()"
   ]
  }
 ],
 "metadata": {
  "kernelspec": {
   "display_name": "Python 3",
   "language": "python",
   "name": "python3"
  },
  "language_info": {
   "codemirror_mode": {
    "name": "ipython",
    "version": 3
   },
   "file_extension": ".py",
   "mimetype": "text/x-python",
   "name": "python",
   "nbconvert_exporter": "python",
   "pygments_lexer": "ipython3",
   "version": "3.6.7"
  }
 },
 "nbformat": 4,
 "nbformat_minor": 2
}
