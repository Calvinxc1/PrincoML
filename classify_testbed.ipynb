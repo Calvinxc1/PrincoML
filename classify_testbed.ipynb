{
 "cells": [
  {
   "cell_type": "code",
   "execution_count": 1,
   "metadata": {},
   "outputs": [],
   "source": [
    "import pandas as pd\n",
    "import numpy as np\n",
    "import torch as pt\n",
    "from scipy.linalg import qr\n",
    "import matplotlib.pyplot as plt\n",
    "%matplotlib inline\n",
    "\n",
    "#pt.set_default_tensor_type('torch.FloatTensor')\n",
    "pt.set_default_tensor_type('torch.cuda.FloatTensor')"
   ]
  },
  {
   "cell_type": "code",
   "execution_count": 2,
   "metadata": {},
   "outputs": [],
   "source": [
    "dataset = pd.get_dummies(pd.read_csv('data_files/titanic_train.csv', index_col = 'PassengerId'), dummy_na = True, columns = ['Sex', 'Pclass', 'Embarked'])\n",
    "test_dataset = pd.get_dummies(pd.read_csv('data_files/titanic_test.csv', index_col = 'PassengerId'), dummy_na = True, columns = ['Sex', 'Pclass', 'Embarked'])\n",
    "\n",
    "dataset['sex_mean'] = 0.\n",
    "test_dataset['sex_mean'] = 0.\n",
    "dataset.loc[dataset['Sex_female'] == 1, 'sex_mean'] = dataset['Sex_female'].mean()\n",
    "dataset.loc[dataset['Sex_male'] == 1, 'sex_mean'] = dataset['Sex_male'].mean()\n",
    "test_dataset.loc[test_dataset['Sex_female'] == 1, 'sex_mean'] = dataset['Sex_female'].mean()\n",
    "test_dataset.loc[test_dataset['Sex_male'] == 1, 'sex_mean'] = dataset['Sex_male'].mean()\n",
    "\n",
    "feature_cols = [col for col in dataset.columns if col not in ('Name', 'Ticket', 'Cabin', 'Survived', 'Age')]\n",
    "target_cols = ['Survived']"
   ]
  }
 ],
 "metadata": {
  "kernelspec": {
   "display_name": "Python 3",
   "language": "python",
   "name": "python3"
  },
  "language_info": {
   "codemirror_mode": {
    "name": "ipython",
    "version": 3
   },
   "file_extension": ".py",
   "mimetype": "text/x-python",
   "name": "python",
   "nbconvert_exporter": "python",
   "pygments_lexer": "ipython3",
   "version": "3.6.7"
  }
 },
 "nbformat": 4,
 "nbformat_minor": 2
}
