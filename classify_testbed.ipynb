{
 "cells": [
  {
   "cell_type": "code",
   "execution_count": 1,
   "metadata": {},
   "outputs": [],
   "source": [
    "import pandas as pd\n",
    "import numpy as np\n",
    "import torch as pt\n",
    "from scipy.linalg import qr\n",
    "import matplotlib.pyplot as plt\n",
    "%matplotlib inline\n",
    "\n",
    "#from ml_lib.clusters.root_cluster import RootCluster as Root\n",
    "from ml_lib.clusters.data_cluster import DataCluster as Data\n",
    "from ml_lib.clusters.dense_cluster import DenseCluster as Dense\n",
    "from ml_lib.controllers.controller import Controller as Control\n",
    "\n",
    "from ml_lib.utils import *\n",
    "\n",
    "#pt.set_default_tensor_type('torch.FloatTensor')\n",
    "pt.set_default_tensor_type('torch.cuda.FloatTensor')"
   ]
  },
  {
   "cell_type": "code",
   "execution_count": 2,
   "metadata": {},
   "outputs": [],
   "source": [
    "dataset = pd.get_dummies(pd.read_csv('data_files/titanic_train.csv', index_col = 'PassengerId'), dummy_na = True, columns = ['Sex', 'Pclass', 'Embarked'])\n",
    "test_dataset = pd.get_dummies(pd.read_csv('data_files/titanic_test.csv', index_col = 'PassengerId'), dummy_na = True, columns = ['Sex', 'Pclass', 'Embarked'])\n",
    "feature_cols = [col for col in dataset.columns if col not in ('Name', 'Ticket', 'Cabin', 'Survived', 'Age')]\n",
    "target_cols = ['Survived']"
   ]
  },
  {
   "cell_type": "code",
   "execution_count": 3,
   "metadata": {},
   "outputs": [],
   "source": [
    "learner = learners.ADAM\n",
    "learn_params = {\n",
    "    'learn_rate': 1e-1,\n",
    "    'window_rate': 0.1,\n",
    "    'sq_window_rate': 0.001,\n",
    "    'scale_features': True,\n",
    "    'noise_rate': 1e-3,\n",
    "    'noise_coef': 0.55\n",
    "}\n",
    "\n",
    "init = inits.Orthogonal\n",
    "init_params = {\n",
    "    'xavier': True\n",
    "}\n",
    "\n",
    "activator = activators.ReLU\n",
    "activator_params = {}\n",
    "\n",
    "control = Control(valid_split = 'holdout')\n",
    "control.add_cluster(\n",
    "    Data(\n",
    "        'data_cluster',\n",
    "        dataset[feature_cols + target_cols],\n",
    "        splitter = splitters.Holdout, splitter_params = {},\n",
    "        loss = losses.LogLoss, loss_params = {}\n",
    "    )\n",
    ")\n",
    "control.add_link(\n",
    "    Dense(\n",
    "        'reg_cluster_out',\n",
    "        len(target_cols),\n",
    "        weight_init = init, weight_init_params = init_params,\n",
    "        activator = activators.Sigmoid, activator_params = {},\n",
    "        learner = learner, learner_params = learn_params\n",
    "    ),\n",
    "    'data_cluster', 'input', data_cols = feature_cols\n",
    ")\n",
    "control.link_clusters('reg_cluster_out', 'data_cluster', data_cols = target_cols)\n",
    "control.init_clusters()"
   ]
  },
  {
   "cell_type": "code",
   "execution_count": 4,
   "metadata": {},
   "outputs": [
    {
     "data": {
      "application/vnd.jupyter.widget-view+json": {
       "model_id": "7dcc06bdff394648bfd22e98f2e1e07d",
       "version_major": 2,
       "version_minor": 0
      },
      "text/plain": [
       "HBox(children=(IntProgress(value=0, max=100000), HTML(value='')))"
      ]
     },
     "metadata": {},
     "output_type": "display_data"
    },
    {
     "name": "stdout",
     "output_type": "stream",
     "text": [
      "\n"
     ]
    }
   ],
   "source": [
    "control.train_model(500)"
   ]
  },
  {
   "cell_type": "code",
   "execution_count": 5,
   "metadata": {},
   "outputs": [
    {
     "data": {
      "image/png": "[encoded data removed]",
      "text/plain": [
       "<Figure size 1152x720 with 1 Axes>"
      ]
     },
     "metadata": {},
     "output_type": "display_data"
    }
   ],
   "source": [
    "control.plot_losses()"
   ]
  },
  {
   "cell_type": "code",
   "execution_count": 6,
   "metadata": {},
   "outputs": [],
   "source": [
    "outputs = control.get_outputs(data_override = {'data_cluster': test_dataset[feature_cols]})"
   ]
  },
  {
   "cell_type": "code",
   "execution_count": 7,
   "metadata": {},
   "outputs": [],
   "source": [
    "control.deinit_clusters()"
   ]
  },
  {
   "cell_type": "code",
   "execution_count": 8,
   "metadata": {},
   "outputs": [],
   "source": [
    "pd.DataFrame(outputs['reg_cluster_out'].round(), index = test_dataset.index, columns = target_cols).apply(lambda x: x.replace('label_', '')).to_csv('predict.csv')"
   ]
  }
 ],
 "metadata": {
  "kernelspec": {
   "display_name": "Python 3",
   "language": "python",
   "name": "python3"
  },
  "language_info": {
   "codemirror_mode": {
    "name": "ipython",
    "version": 3
   },
   "file_extension": ".py",
   "mimetype": "text/x-python",
   "name": "python",
   "nbconvert_exporter": "python",
   "pygments_lexer": "ipython3",
   "version": "3.6.6"
  }
 },
 "nbformat": 4,
 "nbformat_minor": 2
}
