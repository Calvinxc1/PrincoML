{
 "cells": [
  {
   "cell_type": "code",
   "execution_count": 1,
   "metadata": {},
   "outputs": [],
   "source": [
    "import pandas as pd\n",
    "import numpy as np\n",
    "import torch as pt\n",
    "import tqdm\n",
    "\n",
    "from ml_lib.clusters.root_cluster import RootCluster as Root\n",
    "from ml_lib.clusters.data_cluster import DataCluster as Data\n",
    "from ml_lib.clusters.dense_cluster import DenseCluster as Dense\n",
    "\n",
    "from ml_lib.utils.loss_collapser import Linear\n",
    "\n",
    "#pt.set_default_tensor_type('torch.FloatTensor')\n",
    "pt.set_default_tensor_type('torch.cuda.FloatTensor')"
   ]
  },
  {
   "cell_type": "code",
   "execution_count": 6,
   "metadata": {},
   "outputs": [],
   "source": [
    "class Controller():\n",
    "    def __init__(self,\n",
    "                 collapser = Linear\n",
    "                ):\n",
    "        self.clusters = {}\n",
    "        self.Collapser = collapser()\n",
    "        \n",
    "    def add_cluster(self, cluster):\n",
    "        if cluster.name in self.clusters.keys():\n",
    "            raise Exception('Cluster names %s already in model' % cluster.name)\n",
    "            \n",
    "        self.clusters[cluster.name] = cluster\n",
    "        \n",
    "    def link_clusters(self, from_cluster_name, to_cluster_name, **kwargs):\n",
    "        self.clusters[from_cluster_name].add_link(self.clusters[to_cluster_name], 'output', **kwargs)\n",
    "        self.clusters[to_cluster_name].add_link(self.clusters[from_cluster_name], 'input', **kwargs)\n",
    "        \n",
    "    def add_link(self, cluster, link_cluster_name, link_type, **kwargs):\n",
    "        self.add_cluster(cluster)\n",
    "        if link_type == 'output':\n",
    "            self.link_clusters(cluster.name, link_cluster_name, **kwargs)\n",
    "        elif link_type == 'input':\n",
    "            self.link_clusters(link_cluster_name, cluster.name, **kwargs)\n",
    "        else:\n",
    "            raise Exception('%s is not a valid link type, use \"input\" or \"output\"' % link_type)\n",
    "        \n",
    "    def init_clusters(self, reinit = False):\n",
    "        for cluster in self.clusters.values(): cluster.init_cluster(reinit = reinit)\n",
    "            \n",
    "    def train_model(self, iters):\n",
    "        t = tqdm.tnrange(iters)\n",
    "        for epoc in t:\n",
    "            self.learning_iter(t)\n",
    "            \n",
    "    def learning_iter(self, t):\n",
    "        loss = self.get_loss()\n",
    "        for cluster in self.clusters.values():\n",
    "            cluster.learn(loss)\n",
    "        t.set_postfix({'loss': loss.detach().cpu().numpy()})\n",
    "            \n",
    "    def get_loss(self):\n",
    "        self.prime_clusters()\n",
    "        losses = [cluster.get_loss() for cluster in self.clusters.values()]\n",
    "        self.deprime_clusters()\n",
    "        loss = self.Collapser.collapse(pt.stack([\n",
    "            self.Collapser.collapse(loss_val)\n",
    "            for loss_val in losses\n",
    "            if loss_val is not None\n",
    "        ]))\n",
    "        return loss\n",
    "            \n",
    "    def prime_clusters(self, reprime = False):\n",
    "        for cluster in self.clusters.values(): cluster.prime_cluster(reprime = reprime)\n",
    "            \n",
    "    def deprime_clusters(self):\n",
    "        for cluster in self.clusters.values(): cluster.deprime_cluster()"
   ]
  },
  {
   "cell_type": "code",
   "execution_count": 7,
   "metadata": {},
   "outputs": [],
   "source": [
    "dataset = pd.read_csv(\n",
    "    'data_files/kc_house_data.csv',\n",
    "    index_col = 'id', parse_dates = ['date'], date_parser = lambda x: pd.datetime.strptime(x, '%Y%m%dT%H%M%S')\n",
    ")\n",
    "dataset = dataset[[col for col in dataset.columns if not col.endswith('15')]]"
   ]
  },
  {
   "cell_type": "code",
   "execution_count": 12,
   "metadata": {},
   "outputs": [],
   "source": [
    "control = Controller()\n",
    "control.add_cluster(\n",
    "    Data('data_cluster', dataset[['price', 'bedrooms', 'bathrooms', 'sqft_living']])\n",
    ")\n",
    "control.add_link(\n",
    "    Dense('reg_cluster', 1, learner_params = {'learn_rate': 1e-1}),\n",
    "    'data_cluster', 'input', data_cols = ['sqft_living', 'bedrooms', 'bathrooms']\n",
    ")\n",
    "control.link_clusters('reg_cluster', 'data_cluster', data_cols = ['price'])\n",
    "control.init_clusters()"
   ]
  },
  {
   "cell_type": "code",
   "execution_count": 13,
   "metadata": {},
   "outputs": [
    {
     "data": {
      "application/vnd.jupyter.widget-view+json": {
       "model_id": "6d7d222e9c8e4997af6847c576f63689",
       "version_major": 2,
       "version_minor": 0
      },
      "text/plain": [
       "HBox(children=(IntProgress(value=0, max=10000), HTML(value='')))"
      ]
     },
     "metadata": {},
     "output_type": "display_data"
    }
   ],
   "source": [
    "control.train_model(10000)"
   ]
  },
  {
   "cell_type": "code",
   "execution_count": 14,
   "metadata": {},
   "outputs": [
    {
     "data": {
      "text/plain": [
       "{'weights': tensor([[ 263.3921],\n",
       "         [-184.4671],\n",
       "         [ -25.5456]]), 'bias': tensor([-26.8924])}"
      ]
     },
     "execution_count": 14,
     "metadata": {},
     "output_type": "execute_result"
    }
   ],
   "source": [
    "control.clusters['reg_cluster'].coefs"
   ]
  }
 ],
 "metadata": {
  "kernelspec": {
   "display_name": "Python 3",
   "language": "python",
   "name": "python3"
  },
  "language_info": {
   "codemirror_mode": {
    "name": "ipython",
    "version": 3
   },
   "file_extension": ".py",
   "mimetype": "text/x-python",
   "name": "python",
   "nbconvert_exporter": "python",
   "pygments_lexer": "ipython3",
   "version": "3.6.6"
  }
 },
 "nbformat": 4,
 "nbformat_minor": 2
}
