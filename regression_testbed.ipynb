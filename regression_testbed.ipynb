{
 "cells": [
  {
   "cell_type": "code",
   "execution_count": 1,
   "metadata": {},
   "outputs": [],
   "source": [
    "import pandas as pd\n",
    "import numpy as np\n",
    "import torch as pt\n",
    "import tqdm\n",
    "from scipy.linalg import qr\n",
    "import matplotlib.pyplot as plt\n",
    "%matplotlib inline\n",
    "\n",
    "#pt.set_default_tensor_type('torch.FloatTensor')\n",
    "pt.set_default_tensor_type('torch.cuda.FloatTensor')"
   ]
  },
  {
   "cell_type": "code",
   "execution_count": 2,
   "metadata": {},
   "outputs": [],
   "source": [
    "from ml_lib.controllers.Controller import Controller as Control\n",
    "from ml_lib.clusters.DataCluster import DataCluster as Data\n",
    "from ml_lib.clusters.LearnCluster import LearnCluster as Learn\n",
    "from ml_lib.clusters.MergeCluster import MergeCluster as Merge"
   ]
  },
  {
   "cell_type": "code",
   "execution_count": 3,
   "metadata": {},
   "outputs": [],
   "source": [
    "from ml_lib.utils.learn_modules.learners.GradientLearner import GradientLearner\n",
    "from ml_lib.utils.learn_modules.learners.NewtonLearner import NewtonLearner\n",
    "from ml_lib.utils.learn_modules.learners.MomentumLearner import MomentumLearner\n",
    "from ml_lib.utils.learn_modules.learners.SmoothLearner import SmoothLearner\n",
    "\n",
    "from ml_lib.utils.learn_modules.activators.LinearActivate import LinearActivate\n",
    "from ml_lib.utils.learn_modules.activators.SigmoidActivate import SigmoidActivate\n",
    "from ml_lib.utils.learn_modules.activators.TanhActivator import TanhActivator\n",
    "from ml_lib.utils.learn_modules.activators.ReluActivator import ReluActivator\n",
    "\n",
    "from ml_lib.utils.learn_modules.DenseHingeModule import DenseHingeModule"
   ]
  },
  {
   "cell_type": "code",
   "execution_count": 4,
   "metadata": {},
   "outputs": [],
   "source": [
    "dataset = pd.read_csv(\n",
    "    'data_files/kc_house_data.csv',\n",
    "    index_col = 'id', parse_dates = ['date'], date_parser = lambda x: pd.datetime.strptime(x, '%Y%m%dT%H%M%S')\n",
    ")\n",
    "dataset = dataset[[col for col in dataset.columns if not col.endswith('15')]]\n",
    "feature_cols = ['sqft_living', 'bedrooms', 'bathrooms']\n",
    "target_cols = ['price']"
   ]
  },
  {
   "cell_type": "code",
   "execution_count": 5,
   "metadata": {},
   "outputs": [],
   "source": [
    "verbose = False\n",
    "\n",
    "learner = SmoothLearner\n",
    "\n",
    "learn_rate_kwargs = {\n",
    "    'seed_learn': 5e-1\n",
    "}\n",
    "\n",
    "loss_kwargs = {}\n",
    "\n",
    "nesterov = True\n",
    "\n",
    "hinger = DenseHingeModule\n",
    "hinges = 5\n",
    "\n",
    "activator = TanhActivator\n",
    "activator_kwargs = {\n",
    "    #'leak': 0.1\n",
    "}\n",
    "\n",
    "batcher_kwargs = {\n",
    "    'proportion': 1.0\n",
    "}\n",
    "\n",
    "control = Control(\n",
    "    'regression_controller',\n",
    "    loss_smooth_coefs = [0.9, 100]\n",
    ")\n",
    "\n",
    "control.add_cluster(\n",
    "    Data(\n",
    "        'data_cluster',\n",
    "        dataset[feature_cols + target_cols],\n",
    "        splitter_kwargs = {'verbose': verbose},\n",
    "        batcher_kwargs = {'verbose': verbose, **batcher_kwargs},\n",
    "        loss_kwargs = {'verbose': verbose, **loss_kwargs},\n",
    "        loss_combiner_kwargs = {'verbose': verbose},\n",
    "        verbose = verbose\n",
    "    )\n",
    ")\n",
    "\n",
    "control.link_add(\n",
    "    Learn(\n",
    "        'learn_cluster_1',\n",
    "        module = hinger,\n",
    "        module_kwargs = {\n",
    "            'nodes': 128,\n",
    "            'hinges': hinges,\n",
    "            'verbose': verbose, 'nesterov': nesterov,\n",
    "            'bias_init_kwargs': {'verbose': verbose},\n",
    "            'weight_init_kwargs': {'verbose': verbose},\n",
    "            'combiner_kwargs': {'verbose': verbose},\n",
    "            'activator': activator, 'activator_kwargs': {'verbose': verbose, **activator_kwargs},\n",
    "            'learner': learner, 'learner_kwargs': {'verbose': verbose},\n",
    "            'learn_rate_kwargs': {'verbose': verbose, **learn_rate_kwargs}\n",
    "        },\n",
    "        verbose = verbose\n",
    "    ),\n",
    "    'data_cluster', 'input', data_cols = feature_cols\n",
    ")\n",
    "\n",
    "control.link_add(\n",
    "    Learn(\n",
    "        'learn_cluster_2',\n",
    "        module_kwargs = {\n",
    "            'nodes': 32,\n",
    "            'verbose': verbose, 'nesterov': nesterov,\n",
    "            'bias_init_kwargs': {'verbose': verbose},\n",
    "            'weight_init_kwargs': {'verbose': verbose},\n",
    "            'combiner_kwargs': {'verbose': verbose},\n",
    "            'activator': activator, 'activator_kwargs': {'verbose': verbose, **activator_kwargs},\n",
    "            'learner': learner, 'learner_kwargs': {'verbose': verbose},\n",
    "            'learn_rate_kwargs': {'verbose': verbose, **learn_rate_kwargs}\n",
    "        },\n",
    "        verbose = verbose\n",
    "    ),\n",
    "    'learn_cluster_1', 'input'\n",
    ")\n",
    "\n",
    "control.link_add(\n",
    "    Learn(\n",
    "        'learn_cluster_out',\n",
    "        module_kwargs = {\n",
    "            'nodes': len(target_cols),\n",
    "            'verbose': verbose,\n",
    "            'nesterov': nesterov,\n",
    "            'learner': learner,\n",
    "            'learn_rate_kwargs': {'verbose': verbose, **learn_rate_kwargs}\n",
    "        },\n",
    "        verbose = verbose\n",
    "    ),\n",
    "    'learn_cluster_2', 'input'\n",
    "    #'data_cluster', 'input', data_cols = feature_cols\n",
    ")\n",
    "\n",
    "control.link_clusters('learn_cluster_out', 'data_cluster', data_cols = target_cols)\n",
    "\n",
    "control.enable_network()"
   ]
  },
  {
   "cell_type": "code",
   "execution_count": 6,
   "metadata": {
    "scrolled": false
   },
   "outputs": [
    {
     "data": {
      "application/vnd.jupyter.widget-view+json": {
       "model_id": "4c1e1792c2474b22b15ddfdeee263722",
       "version_major": 2,
       "version_minor": 0
      },
      "text/plain": [
       "HBox(children=(IntProgress(value=0, max=10000), HTML(value='')))"
      ]
     },
     "metadata": {},
     "output_type": "display_data"
    },
    {
     "name": "stdout",
     "output_type": "stream",
     "text": [
      "\n"
     ]
    }
   ],
   "source": [
    "control.train_model(10000)"
   ]
  },
  {
   "cell_type": "code",
   "execution_count": 7,
   "metadata": {},
   "outputs": [
    {
     "data": {
      "image/png": "[encoded data removed]",
      "text/plain": [
       "<Figure size 1152x720 with 1 Axes>"
      ]
     },
     "metadata": {},
     "output_type": "display_data"
    }
   ],
   "source": [
    "control.plot_losses()"
   ]
  }
 ],
 "metadata": {
  "kernelspec": {
   "display_name": "Python 3",
   "language": "python",
   "name": "python3"
  },
  "language_info": {
   "codemirror_mode": {
    "name": "ipython",
    "version": 3
   },
   "file_extension": ".py",
   "mimetype": "text/x-python",
   "name": "python",
   "nbconvert_exporter": "python",
   "pygments_lexer": "ipython3",
   "version": "3.6.7"
  }
 },
 "nbformat": 4,
 "nbformat_minor": 2
}
