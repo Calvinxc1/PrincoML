{
 "cells": [
  {
   "cell_type": "code",
   "execution_count": 1,
   "metadata": {},
   "outputs": [],
   "source": [
    "import pandas as pd\n",
    "import numpy as np\n",
    "import torch as pt\n",
    "import tqdm\n",
    "from scipy.linalg import qr\n",
    "import matplotlib.pyplot as plt\n",
    "%matplotlib inline\n",
    "\n",
    "#pt.set_default_tensor_type('torch.FloatTensor')\n",
    "pt.set_default_tensor_type('torch.cuda.FloatTensor')"
   ]
  },
  {
   "cell_type": "code",
   "execution_count": 2,
   "metadata": {},
   "outputs": [],
   "source": [
    "from ml_lib.controllers.Controller import Controller as Control\n",
    "from ml_lib.clusters.DataCluster import DataCluster as Data\n",
    "from ml_lib.clusters.LearnCluster import LearnCluster as Learn\n",
    "from ml_lib.clusters.MergeCluster import MergeCluster as Merge"
   ]
  },
  {
   "cell_type": "code",
   "execution_count": 3,
   "metadata": {},
   "outputs": [],
   "source": [
    "from ml_lib.utils.learn_modules.learners.GradientLearner import GradientLearner\n",
    "from ml_lib.utils.learn_modules.learners.NewtonLearner import NewtonLearner\n",
    "from ml_lib.utils.learn_modules.learners.MomentumLearner import MomentumLearner\n",
    "from ml_lib.utils.learn_modules.learners.SmoothLearner import SmoothLearner\n",
    "\n",
    "from ml_lib.utils.learn_modules.activators.LinearActivate import LinearActivate\n",
    "from ml_lib.utils.learn_modules.activators.SigmoidActivate import SigmoidActivate\n",
    "from ml_lib.utils.learn_modules.activators.TanhActivator import TanhActivator\n",
    "from ml_lib.utils.learn_modules.activators.ReluActivator import ReluActivator"
   ]
  },
  {
   "cell_type": "code",
   "execution_count": 4,
   "metadata": {},
   "outputs": [],
   "source": [
    "dataset = pd.read_csv(\n",
    "    'data_files/kc_house_data.csv',\n",
    "    index_col = 'id', parse_dates = ['date'], date_parser = lambda x: pd.datetime.strptime(x, '%Y%m%dT%H%M%S')\n",
    ")\n",
    "dataset = dataset[[col for col in dataset.columns if not col.endswith('15')]]\n",
    "feature_cols = ['sqft_living', 'bedrooms', 'bathrooms']\n",
    "target_cols = ['price']\n",
    "dataset[target_cols] = np.log(dataset[target_cols])"
   ]
  },
  {
   "cell_type": "code",
   "execution_count": 5,
   "metadata": {},
   "outputs": [],
   "source": [
    "verbose = False\n",
    "\n",
    "learner = SmoothLearner\n",
    "learner_kwargs = {\n",
    "    'learn_rate': 1e-1\n",
    "}\n",
    "\n",
    "loss_kwargs = {}\n",
    "\n",
    "nesterov = True\n",
    "\n",
    "activator = ReluActivator\n",
    "activator_kwargs = {\n",
    "    'leak': 0.1\n",
    "}\n",
    "\n",
    "batcher_kwargs = {\n",
    "    'proportion': 1.0\n",
    "}\n",
    "\n",
    "control = Control(\n",
    "    'regression_controller',\n",
    "    loss_smooth_coefs = [0.9, 100]\n",
    ")\n",
    "\n",
    "control.add_cluster(\n",
    "    Data(\n",
    "        'data_cluster',\n",
    "        dataset[feature_cols + target_cols],\n",
    "        splitter_kwargs = {'verbose': verbose},\n",
    "        batcher_kwargs = {'verbose': verbose, **batcher_kwargs},\n",
    "        loss_kwargs = {'verbose': verbose, **loss_kwargs},\n",
    "        loss_combiner_kwargs = {'verbose': verbose},\n",
    "        verbose = verbose\n",
    "    )\n",
    ")\n",
    "\n",
    "control.link_add(\n",
    "    Learn(\n",
    "        'learn_cluster_1',\n",
    "        module_kwargs = {\n",
    "            'nodes': 128,\n",
    "            'verbose': verbose, 'nesterov': nesterov,\n",
    "            'bias_init_kwargs': {'verbose': verbose},\n",
    "            'weight_init_kwargs': {'verbose': verbose},\n",
    "            'combiner_kwargs': {'verbose': verbose},\n",
    "            'activator': activator, 'activator_kwargs': {'verbose': verbose, **activator_kwargs},\n",
    "            'learner': learner, 'learner_kwargs': {'verbose': verbose, **learner_kwargs}\n",
    "        },\n",
    "        verbose = verbose\n",
    "    ),\n",
    "    'data_cluster', 'input', data_cols = feature_cols\n",
    ")\n",
    "\n",
    "control.link_add(\n",
    "    Learn(\n",
    "        'learn_cluster_2',\n",
    "        module_kwargs = {\n",
    "            'nodes': 32,\n",
    "            'verbose': verbose, 'nesterov': nesterov,\n",
    "            'bias_init_kwargs': {'verbose': verbose},\n",
    "            'weight_init_kwargs': {'verbose': verbose},\n",
    "            'combiner_kwargs': {'verbose': verbose},\n",
    "            'activator': activator, 'activator_kwargs': {'verbose': verbose, **activator_kwargs},\n",
    "            'learner': learner, 'learner_kwargs': {'verbose': verbose, **learner_kwargs}\n",
    "        },\n",
    "        verbose = verbose\n",
    "    ),\n",
    "    'learn_cluster_1', 'input'\n",
    ")\n",
    "\n",
    "control.link_add(\n",
    "    Learn(\n",
    "        'learn_cluster_out',\n",
    "        module_kwargs = {\n",
    "            'nodes': len(target_cols),\n",
    "            'verbose': verbose, 'nesterov': nesterov,\n",
    "            'bias_init_kwargs': {'verbose': verbose},\n",
    "            'weight_init_kwargs': {'verbose': verbose},\n",
    "            'combiner_kwargs': {'verbose': verbose},\n",
    "            'activator_kwargs': {'verbose': verbose},\n",
    "            'learner': learner, 'learner_kwargs': {'verbose': verbose, **learner_kwargs}\n",
    "        },\n",
    "        verbose = verbose\n",
    "    ),\n",
    "    'learn_cluster_2', 'input'\n",
    ")\n",
    "\n",
    "control.link_clusters('learn_cluster_out', 'data_cluster', data_cols = target_cols)\n",
    "\n",
    "control.enable_network()"
   ]
  },
  {
   "cell_type": "code",
   "execution_count": 6,
   "metadata": {
    "scrolled": false
   },
   "outputs": [
    {
     "data": {
      "application/vnd.jupyter.widget-view+json": {
       "model_id": "53b06af811034348bd8db6d0106bfb9b",
       "version_major": 2,
       "version_minor": 0
      },
      "text/plain": [
       "HBox(children=(IntProgress(value=0, max=1000), HTML(value='')))"
      ]
     },
     "metadata": {},
     "output_type": "display_data"
    },
    {
     "name": "stdout",
     "output_type": "stream",
     "text": [
      "\n"
     ]
    }
   ],
   "source": [
    "control.train_model(1000)"
   ]
  },
  {
   "cell_type": "code",
   "execution_count": 7,
   "metadata": {},
   "outputs": [
    {
     "data": {
      "image/png": "[encoded data removed]",
      "text/plain": [
       "<Figure size 1152x720 with 1 Axes>"
      ]
     },
     "metadata": {},
     "output_type": "display_data"
    }
   ],
   "source": [
    "control.plot_losses()"
   ]
  },
  {
   "cell_type": "code",
   "execution_count": 8,
   "metadata": {},
   "outputs": [
    {
     "data": {
      "text/plain": [
       "{'outputs': {'learn_cluster_1': array([[ 0.75743645,  2.8894954 , -0.10337601, ..., -0.15764149,\n",
       "          -0.3132232 ,  0.54501903],\n",
       "         [-0.07903371, -0.03585723,  0.44816133, ...,  0.83899045,\n",
       "           1.4409597 ,  0.4707098 ],\n",
       "         [-0.0227714 ,  4.146715  , -0.06512069, ..., -0.1116174 ,\n",
       "          -0.21071382,  2.749917  ],\n",
       "         ...,\n",
       "         [-0.00439827,  4.2377815 , -0.07228157, ..., -0.10078613,\n",
       "          -0.23816924,  2.5559356 ],\n",
       "         [-0.0802491 ,  0.31201676,  0.21325818, ..., -0.00757687,\n",
       "           0.842672  ,  0.9494775 ],\n",
       "         [-0.00439827,  4.2377815 , -0.07228157, ..., -0.10078613,\n",
       "          -0.23816924,  2.5559356 ]], dtype=float32),\n",
       "  'learn_cluster_2': array([[ 0.82434213, -0.71798486, 13.857697  , ..., -0.6665395 ,\n",
       "           3.2799563 , -0.6874368 ],\n",
       "         [-0.06953632,  4.911432  , -0.17439303, ...,  3.7117941 ,\n",
       "           4.6624365 , -1.0604767 ],\n",
       "         [ 1.2927545 , -0.67238706, 12.620867  , ...,  5.291447  ,\n",
       "          14.03426   , -1.9024944 ],\n",
       "         ...,\n",
       "         [ 3.9681087 , -0.6089446 , 13.502776  , ...,  4.5932946 ,\n",
       "          11.522049  , -1.884874  ],\n",
       "         [-0.93117553, -0.37820035,  1.7816473 , ..., -0.13688225,\n",
       "           6.8085327 , -0.99334824],\n",
       "         [ 3.9681087 , -0.6089446 , 13.502776  , ...,  4.5932946 ,\n",
       "          11.522049  , -1.884874  ]], dtype=float32),\n",
       "  'learn_cluster_out': array([[ 2.3934362 ],\n",
       "         [ 0.46521515],\n",
       "         [ 3.0493903 ],\n",
       "         ...,\n",
       "         [ 2.8040376 ],\n",
       "         [-0.11305684],\n",
       "         [ 2.8040376 ]], dtype=float32)},\n",
       " 'loss': array(2.1395056, dtype=float32)}"
      ]
     },
     "execution_count": 8,
     "metadata": {},
     "output_type": "execute_result"
    }
   ],
   "source": [
    "control.predict({'data_cluster': dataset[feature_cols + target_cols]})"
   ]
  },
  {
   "cell_type": "code",
   "execution_count": 9,
   "metadata": {},
   "outputs": [
    {
     "data": {
      "text/plain": [
       "{'learn_cluster_1': tensor([[-0.1404,  0.0468, -0.0634, -0.1591, -0.0641, -0.0726,  0.0067, -0.0231,\n",
       "          -0.1503, -0.0456,  0.7433,  0.1635, -0.2840, -0.0976,  0.3889, -0.1339,\n",
       "          -0.0199,  0.2452,  0.1888, -0.2093, -0.1024, -0.2032,  0.2574, -0.2347,\n",
       "          -0.5238, -0.0290, -0.3455,  0.1862,  0.0189, -0.4685, -0.2966,  0.0437,\n",
       "           0.0911,  0.0318, -0.0210,  0.0280,  0.0110, -0.0985, -0.3133, -0.1550,\n",
       "          -0.5867, -0.0154, -0.0344, -0.2393, -0.2138, -0.4452, -0.2417, -0.4683,\n",
       "           0.1323,  0.1169, -0.3330, -0.0352, -0.3500,  0.0823,  0.3185,  0.0538,\n",
       "          -0.0886,  0.1902, -0.1553, -0.4722, -0.0616,  0.0030, -0.0730,  0.0466,\n",
       "          -0.7997, -0.3658, -0.1965, -0.2413, -0.0012, -0.2140, -0.3392, -0.4412,\n",
       "           0.0490,  0.0702, -0.4824, -0.3214, -0.2404,  0.3539,  0.0610, -0.4732,\n",
       "           0.0949, -0.4333, -0.0002,  0.0908, -0.0555,  0.3238,  0.0195, -0.0451,\n",
       "          -0.2771, -0.5286,  0.1050,  0.0071, -0.4730, -0.3661,  0.0191, -0.4742,\n",
       "          -0.0769, -0.0598, -0.0187, -0.0303, -0.0598, -0.2345,  0.1672, -0.0712,\n",
       "           0.0671, -0.0371, -0.0165, -0.2031, -0.3942, -0.0385, -0.2077, -0.1748,\n",
       "           0.0012, -0.4826,  0.0999, -0.4375,  0.0353, -0.1065,  0.0058, -0.1018,\n",
       "           0.0052, -0.2742, -0.1945, -0.1654, -0.0470, -0.1438, -0.0301, -0.1444],\n",
       "         [-0.2189, -0.9716,  0.3910, -0.3717, -0.7496,  1.7943, -0.3319,  0.4151,\n",
       "           0.0343, -0.8196,  0.1032, -0.1124,  0.5294,  0.0216, -0.1297, -0.5606,\n",
       "           0.9816, -0.0857, -2.2084, -0.4601,  2.0001,  0.1734,  0.2435,  1.2119,\n",
       "          -0.2591, -1.4282, -0.4373, -0.7126,  0.2260,  0.9824,  0.4254,  2.0789,\n",
       "          -0.7397,  0.2021,  0.2289, -1.4779,  0.2755, -0.7780, -0.0010,  1.4682,\n",
       "          -0.1321, -0.2966,  1.3269, -0.4236,  0.0883,  0.1712,  0.0383,  2.0519,\n",
       "           1.5042, -1.0464,  0.6380,  0.7161, -1.5338,  0.9038, -0.2939,  0.2194,\n",
       "          -0.3220,  1.2009,  0.2192, -0.3714,  0.1863, -2.0197, -0.1018,  0.4475,\n",
       "           1.4706,  0.6480,  0.4490, -1.2438, -2.0883,  0.6419, -1.4965,  1.1653,\n",
       "          -0.5046, -0.9923,  0.2817, -0.6833, -0.9488, -0.5241, -0.5681,  0.0528,\n",
       "           1.7089,  1.2749,  0.7457, -1.2818, -0.6344,  0.6128, -1.2474, -0.8064,\n",
       "           0.3036,  0.1281,  1.0997, -1.3023, -0.9249, -0.0469, -1.2594,  0.7717,\n",
       "          -1.2778,  0.7582,  0.5301,  0.1175,  2.3668, -0.5091,  1.9634, -0.9335,\n",
       "           0.8219, -0.8978,  0.0726,  1.6538, -0.3017,  0.6557, -1.2419, -0.1690,\n",
       "           1.3065, -0.7763,  1.4305, -0.7207, -1.5918,  0.1165, -1.6214,  0.0139,\n",
       "          -0.0302,  0.4343, -0.9356, -0.9467, -0.5010,  1.0287,  1.1134, -0.3633],\n",
       "         [ 1.0071, -0.7659, -0.5181,  1.0549,  1.2113, -1.7127,  1.6670,  0.1328,\n",
       "          -0.7232, -1.5922,  1.4572, -1.6462, -1.4216,  0.8420, -0.2721, -0.5184,\n",
       "          -0.2241, -2.2311,  0.2926,  0.3905,  2.0937,  0.4323, -1.0067,  0.6476,\n",
       "          -0.6527, -1.3222,  1.2116, -1.4386, -1.7398, -0.4908, -2.2766, -1.2616,\n",
       "           2.2326, -0.7698,  1.1746,  1.3696,  0.7557, -0.2870, -1.1945, -1.4475,\n",
       "           0.1126, -0.0270, -0.3901, -0.5715, -0.0272, -0.5622, -0.5433, -1.0542,\n",
       "           2.7288, -0.2792, -0.3670, -0.1422,  0.0732,  2.2093,  2.0804,  0.8095,\n",
       "          -0.4405, -2.9141, -0.0855, -0.1288, -0.7755, -0.0649, -1.3651,  2.2991,\n",
       "           0.4828,  1.6905, -0.7533,  1.3393, -0.5365, -0.6737,  0.8263,  1.4778,\n",
       "          -1.7957, -0.7120, -1.2791,  2.9562, -0.0801,  0.8915, -0.6520, -0.0276,\n",
       "           0.2358, -1.1151, -2.2450,  0.4413, -0.9809, -1.3638,  0.4684,  1.2901,\n",
       "          -0.5008, -0.9630, -0.4299,  1.3066,  1.5126, -0.7099, -0.6674,  1.0744,\n",
       "           0.2402, -1.0809, -0.2093, -2.3786, -1.0658,  0.3142,  0.6019,  0.7218,\n",
       "           0.7850, -0.4261, -0.7970, -0.4296, -1.1175,  1.4688, -1.7396, -1.0063,\n",
       "          -0.4404, -0.1449,  0.4087,  0.5635, -1.6529,  0.4677, -1.7826, -2.2661,\n",
       "           0.4806,  1.5579, -0.1287,  0.4471,  1.1567, -0.8552, -1.4157, -1.8999],\n",
       "         [-0.7495, -1.0953,  0.5485, -1.0852,  1.2791,  0.7713,  0.8732,  0.9527,\n",
       "           1.1171,  1.7392,  0.6255, -0.9791,  0.4801,  0.3322, -1.0607, -0.3898,\n",
       "           0.5095,  0.3571, -0.1847,  0.2352,  0.4389, -1.1900, -1.1104,  0.7016,\n",
       "           0.5914, -0.8692, -0.9121, -0.3881,  1.7752, -2.0167, -1.0722,  0.2124,\n",
       "          -0.0566,  0.2270, -0.2432, -0.2240, -0.8440, -0.5536,  0.5502,  0.9827,\n",
       "          -0.3594, -0.8024,  0.8454, -1.5917, -0.0681,  1.8626, -2.4192,  0.5899,\n",
       "          -0.3656, -0.3911, -1.2067,  1.7339, -1.4397,  0.1381,  0.1569,  1.3962,\n",
       "           0.0161, -0.3417, -0.5573,  0.3515,  0.0342, -1.2921, -2.3525,  1.5859,\n",
       "          -0.5137,  0.8608,  0.2261,  0.8723, -0.3978,  0.8428,  0.9154, -0.6173,\n",
       "           0.9587,  1.5160,  0.7161,  0.3419,  0.6493,  2.3870, -0.9478,  1.3306,\n",
       "           1.4709, -2.1924, -1.3292,  0.2950,  1.8097,  2.0290, -0.4642,  1.6352,\n",
       "           2.4751, -1.7556, -0.1028,  0.0905, -0.6649,  0.4639,  0.4531, -1.7521,\n",
       "           0.0021, -0.9105,  0.5570, -1.5306, -0.8786,  0.1289, -1.5589,  1.4005,\n",
       "           1.8746, -1.0440, -0.1537, -0.9288,  1.2516, -0.8229, -0.2034,  0.5702,\n",
       "           0.3979,  0.5551,  1.1209,  0.9480, -0.1171, -1.6307, -1.0812, -0.9512,\n",
       "          -1.0562, -1.4996,  0.3016, -0.7663, -1.5045,  0.5290,  1.7795,  0.2930]],\n",
       "        requires_grad=True),\n",
       " 'learn_cluster_2': tensor([[-0.0012, -0.0042,  0.0017,  ...,  0.0038, -0.0002, -0.0071],\n",
       "         [ 1.0493,  0.8975,  0.6989,  ..., -0.4048, -1.2767,  0.4094],\n",
       "         [-0.2883,  0.3693,  0.1197,  ..., -0.8534,  2.6129,  0.4590],\n",
       "         ...,\n",
       "         [-0.2756,  0.1444,  0.6632,  ...,  0.0881,  0.2546,  0.1119],\n",
       "         [-1.5515, -0.6047, -1.4219,  ..., -0.2315,  0.3509, -0.6796],\n",
       "         [-0.6197,  0.4401,  0.4598,  ...,  1.6235,  0.1486, -0.4873]],\n",
       "        requires_grad=True),\n",
       " 'learn_cluster_out': tensor([[ 0.0080],\n",
       "         [ 0.0377],\n",
       "         [-0.0994],\n",
       "         [ 0.2441],\n",
       "         [-0.1743],\n",
       "         [-2.0670],\n",
       "         [-0.9392],\n",
       "         [ 0.7731],\n",
       "         [-0.0136],\n",
       "         [-0.3550],\n",
       "         [-0.3823],\n",
       "         [-1.4217],\n",
       "         [-1.3372],\n",
       "         [ 0.2128],\n",
       "         [ 0.8099],\n",
       "         [-0.5559],\n",
       "         [-0.4785],\n",
       "         [-1.0829],\n",
       "         [ 0.3462],\n",
       "         [ 0.5704],\n",
       "         [ 1.0608],\n",
       "         [-0.1279],\n",
       "         [ 0.6281],\n",
       "         [-0.9053],\n",
       "         [-0.4122],\n",
       "         [-0.6424],\n",
       "         [ 0.8477],\n",
       "         [ 1.7012],\n",
       "         [ 0.2632],\n",
       "         [-1.9009],\n",
       "         [-0.8732],\n",
       "         [ 0.7934],\n",
       "         [ 2.1124]], requires_grad=True)}"
      ]
     },
     "execution_count": 9,
     "metadata": {},
     "output_type": "execute_result"
    }
   ],
   "source": [
    "control.network_coefs()"
   ]
  }
 ],
 "metadata": {
  "kernelspec": {
   "display_name": "Python 3",
   "language": "python",
   "name": "python3"
  },
  "language_info": {
   "codemirror_mode": {
    "name": "ipython",
    "version": 3
   },
   "file_extension": ".py",
   "mimetype": "text/x-python",
   "name": "python",
   "nbconvert_exporter": "python",
   "pygments_lexer": "ipython3",
   "version": "3.6.7"
  }
 },
 "nbformat": 4,
 "nbformat_minor": 2
}
