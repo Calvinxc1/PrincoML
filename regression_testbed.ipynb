{
 "cells": [
  {
   "cell_type": "code",
   "execution_count": 1,
   "metadata": {},
   "outputs": [],
   "source": [
    "import pandas as pd\n",
    "import numpy as np\n",
    "import torch as pt\n",
    "import tqdm\n",
    "from scipy.linalg import qr\n",
    "import matplotlib.pyplot as plt\n",
    "%matplotlib inline\n",
    "\n",
    "#pt.set_default_tensor_type('torch.FloatTensor')\n",
    "pt.set_default_tensor_type('torch.cuda.FloatTensor')"
   ]
  },
  {
   "cell_type": "code",
   "execution_count": 2,
   "metadata": {},
   "outputs": [],
   "source": [
    "from ml_lib.Controller import Controller as Control\n",
    "#from ml_lib.clusters.root_cluster.RootCluster import RootCluster as Root\n",
    "from ml_lib.clusters.data_cluster.DataCluster import DataCluster as Data\n",
    "from ml_lib.clusters.learn_cluster.LearnCluster import LearnCluster as Learn\n",
    "from ml_lib.clusters.merge_cluster.MergeCluster import MergeCluster as Merge"
   ]
  },
  {
   "cell_type": "code",
   "execution_count": 3,
   "metadata": {},
   "outputs": [],
   "source": [
    "from ml_lib.clusters.learn_cluster.modules.learners.GradientLearner import GradientLearner\n",
    "from ml_lib.clusters.learn_cluster.modules.learners.NewtonLearner import NewtonLearner\n",
    "from ml_lib.clusters.learn_cluster.modules.learners.MomentumLearner import MomentumLearner\n",
    "from ml_lib.clusters.learn_cluster.modules.learners.SmoothLearner import SmoothLearner\n",
    "\n",
    "from ml_lib.clusters.learn_cluster.modules.activators.LinearActivate import LinearActivate\n",
    "from ml_lib.clusters.learn_cluster.modules.activators.SigmoidActivate import SigmoidActivate\n",
    "from ml_lib.clusters.learn_cluster.modules.activators.TanhActivator import TanhActivator\n",
    "from ml_lib.clusters.learn_cluster.modules.activators.ReluActivator import ReluActivator\n",
    "\n",
    "from ml_lib.clusters.data_cluster.losses.CrossEntLoss import CrossEntLoss\n",
    "from ml_lib.utils.regularizers.RidgeRegularizer import RidgeRegularizer\n",
    "from ml_lib.utils.regularizers.LassoRegularizer import LassoRegularizer\n",
    "from ml_lib.utils.regularizers.DualRegularizer import DualRegularizer"
   ]
  },
  {
   "cell_type": "code",
   "execution_count": 4,
   "metadata": {},
   "outputs": [],
   "source": [
    "dataset = pd.read_csv(\n",
    "    'data_files/kc_house_data.csv',\n",
    "    index_col = 'id', parse_dates = ['date'], date_parser = lambda x: pd.datetime.strptime(x, '%Y%m%dT%H%M%S')\n",
    ")\n",
    "dataset = dataset[[col for col in dataset.columns if not col.endswith('15')]]\n",
    "feature_cols = ['sqft_living', 'bedrooms', 'bathrooms']\n",
    "target_cols = ['price']\n",
    "dataset[target_cols] = np.log(dataset[target_cols])"
   ]
  },
  {
   "cell_type": "code",
   "execution_count": 5,
   "metadata": {},
   "outputs": [],
   "source": [
    "verbose = False\n",
    "\n",
    "learner = SmoothLearner\n",
    "learner_kwargs = {\n",
    "    'learn_rate': 1e-1\n",
    "}\n",
    "\n",
    "loss_kwargs = {}\n",
    "\n",
    "nesterov = True\n",
    "\n",
    "activator = ReluActivator\n",
    "activator_kwargs = {\n",
    "    'leak': 0.1\n",
    "}\n",
    "\n",
    "batcher_kwargs = {\n",
    "    'proportion': 1.0\n",
    "}\n",
    "\n",
    "control = Control(\n",
    "    'regression_controller',\n",
    "    regularizer = DualRegularizer, regularizer_kwargs = {'l1': 0, 'l2': 0}\n",
    ")\n",
    "\n",
    "control.add_cluster(\n",
    "    Data(\n",
    "        'data_cluster',\n",
    "        dataset[feature_cols + target_cols],\n",
    "        splitter_kwargs = {'verbose': verbose},\n",
    "        batcher_kwargs = {'verbose': verbose, **batcher_kwargs},\n",
    "        loss_kwargs = {'verbose': verbose, **loss_kwargs},\n",
    "        loss_combiner_kwargs = {'verbose': verbose},\n",
    "        verbose = verbose\n",
    "    )\n",
    ")\n",
    "\n",
    "control.link_add(\n",
    "    Learn(\n",
    "        'learn_cluster_1',\n",
    "        module_kwargs = {\n",
    "            'nodes': 128,\n",
    "            'verbose': verbose, 'nesterov': nesterov,\n",
    "            'bias_init_kwargs': {'verbose': verbose},\n",
    "            'weight_init_kwargs': {'verbose': verbose},\n",
    "            'combiner_kwargs': {'verbose': verbose},\n",
    "            'activator': activator, 'activator_kwargs': {'verbose': verbose, **activator_kwargs},\n",
    "            'learner': learner, 'learner_kwargs': {'verbose': verbose, **learner_kwargs}\n",
    "        },\n",
    "        verbose = verbose\n",
    "    ),\n",
    "    'data_cluster', 'input', data_cols = feature_cols\n",
    ")\n",
    "\n",
    "control.link_add(\n",
    "    Learn(\n",
    "        'learn_cluster_2',\n",
    "        module_kwargs = {\n",
    "            'nodes': 32,\n",
    "            'verbose': verbose, 'nesterov': nesterov,\n",
    "            'bias_init_kwargs': {'verbose': verbose},\n",
    "            'weight_init_kwargs': {'verbose': verbose},\n",
    "            'combiner_kwargs': {'verbose': verbose},\n",
    "            'activator': activator, 'activator_kwargs': {'verbose': verbose, **activator_kwargs},\n",
    "            'learner': learner, 'learner_kwargs': {'verbose': verbose, **learner_kwargs}\n",
    "        },\n",
    "        verbose = verbose\n",
    "    ),\n",
    "    'learn_cluster_1', 'input'\n",
    ")\n",
    "\n",
    "control.link_add(\n",
    "    Learn(\n",
    "        'learn_cluster_out',\n",
    "        module_kwargs = {\n",
    "            'nodes': len(target_cols),\n",
    "            'verbose': verbose, 'nesterov': nesterov,\n",
    "            'bias_init_kwargs': {'verbose': verbose},\n",
    "            'weight_init_kwargs': {'verbose': verbose},\n",
    "            'combiner_kwargs': {'verbose': verbose},\n",
    "            'activator_kwargs': {'verbose': verbose},\n",
    "            'learner': learner, 'learner_kwargs': {'verbose': verbose, **learner_kwargs}\n",
    "        },\n",
    "        verbose = verbose\n",
    "    ),\n",
    "    'learn_cluster_2', 'input'\n",
    ")\n",
    "\n",
    "control.link_clusters('learn_cluster_out', 'data_cluster', data_cols = target_cols)\n",
    "\n",
    "control.enable_network()"
   ]
  },
  {
   "cell_type": "code",
   "execution_count": 6,
   "metadata": {},
   "outputs": [
    {
     "data": {
      "application/vnd.jupyter.widget-view+json": {
       "model_id": "296920954e5d40438e68e8f9ae297cb1",
       "version_major": 2,
       "version_minor": 0
      },
      "text/plain": [
       "HBox(children=(IntProgress(value=0, max=1000), HTML(value='')))"
      ]
     },
     "metadata": {},
     "output_type": "display_data"
    },
    {
     "name": "stdout",
     "output_type": "stream",
     "text": [
      "\n"
     ]
    }
   ],
   "source": [
    "control.train_model(1000)"
   ]
  },
  {
   "cell_type": "code",
   "execution_count": 7,
   "metadata": {},
   "outputs": [
    {
     "data": {
      "image/png": "[encoded data removed]",
      "text/plain": [
       "<Figure size 1152x720 with 1 Axes>"
      ]
     },
     "metadata": {},
     "output_type": "display_data"
    }
   ],
   "source": [
    "control.plot_losses()"
   ]
  },
  {
   "cell_type": "code",
   "execution_count": 8,
   "metadata": {},
   "outputs": [
    {
     "data": {
      "text/plain": [
       "tensor([[ 0.1720, -0.2464, -0.5583, -0.3951,  0.1486, -0.6648,  0.2335, -0.1455,\n",
       "         -0.3564,  0.7645, -0.8466, -0.1485, -0.1603,  0.1468, -1.7301, -0.2611,\n",
       "          0.2088,  0.5219, -0.8066,  0.0117, -0.8544, -0.4674, -0.7568,  0.0482,\n",
       "          0.7818, -0.5867, -0.0742, -0.4919, -0.9414, -0.3459,  0.0857, -0.2982,\n",
       "         -0.1370, -0.5656,  0.1947,  0.3391,  0.0618,  0.1664, -0.9939, -1.1369,\n",
       "         -0.5743, -0.4449, -0.7598,  0.0063, -0.3799, -0.2055, -0.9991, -0.7567,\n",
       "          0.3848,  0.2206, -0.8748, -1.8344, -0.0353, -0.3619, -0.3821, -0.5309,\n",
       "         -0.8247, -0.6298, -0.3084, -0.7849, -0.0449, -0.2235, -0.1333, -0.5972,\n",
       "         -0.6201,  0.0957, -0.2904,  0.4607, -0.3575,  0.2676,  0.4045, -0.3873,\n",
       "         -0.0180, -0.6974, -0.2307, -1.1702,  0.4588, -0.1989, -0.6123,  0.4625,\n",
       "         -0.8670, -0.0066, -0.2502, -0.5883, -0.1854,  1.1111, -0.2885,  0.1010,\n",
       "         -0.2265,  0.0551, -0.6396, -0.8222, -0.4265, -0.2455, -0.2968, -0.5227,\n",
       "          0.1113, -0.5826, -1.3762, -0.2246, -0.3040, -0.1073,  0.0842, -0.0012,\n",
       "          0.1551, -0.2691, -0.4702, -0.9432,  0.5423, -0.6649, -0.3542, -0.5424,\n",
       "          0.6965, -0.3264, -0.7810,  0.0045, -0.6321, -0.7146, -0.8970, -0.6350,\n",
       "         -0.9700, -0.4181,  0.5644, -0.3614, -0.2901, -0.1680,  0.3143, -0.1831],\n",
       "        [-0.4029,  1.1757, -0.8637, -0.1789,  0.2625,  0.2723,  0.5642, -0.2090,\n",
       "          1.6811, -1.2991,  0.0876,  1.3861, -0.7712, -1.9272,  0.8131,  0.5808,\n",
       "          1.3675,  1.4109, -1.1109,  0.4287,  0.4085, -0.5069,  1.2457,  0.4219,\n",
       "          0.8242, -0.1616, -0.0868, -0.6406, -1.9320, -1.2924, -0.7725,  1.7996,\n",
       "         -1.1002,  0.4973, -0.3973, -0.8494,  0.8488, -1.4183,  1.4261,  1.0360,\n",
       "         -0.1882, -0.5974, -0.1539, -0.4296, -0.3547, -0.8398,  0.0437,  0.2945,\n",
       "          1.7893, -1.1116, -0.8439, -1.5394,  0.0322, -0.4374,  0.1267, -0.0659,\n",
       "         -0.3505,  0.3438,  1.1543, -0.8669,  0.7086,  0.5635, -0.2052,  0.0374,\n",
       "         -0.3719, -0.6467,  0.4367, -2.2706,  0.4633,  0.2864,  0.8364, -0.3399,\n",
       "         -0.5858,  1.8307, -0.1886,  0.1776,  2.1555,  0.9054, -0.9159, -1.8643,\n",
       "         -0.7036, -1.1810, -0.0189,  0.9796,  0.7092,  2.1941, -0.2478,  1.3185,\n",
       "         -1.7042, -1.5429, -0.4130,  0.7950, -1.1118, -0.9000,  0.3475, -0.5820,\n",
       "         -0.6814,  0.5622,  0.1945, -1.1646,  0.6334,  0.3022,  1.6933,  1.5697,\n",
       "         -1.2756, -0.7780, -0.0024,  0.0439, -1.3801, -0.7278, -0.4861, -0.6355,\n",
       "         -0.0322, -0.7711, -0.7038,  0.8194, -0.0094, -0.5363,  0.4575,  0.8445,\n",
       "         -2.0546, -0.0821, -1.3615,  0.2102, -0.6120,  0.7440,  0.0823, -1.0238],\n",
       "        [ 0.5923,  0.5206,  1.1443, -0.0481, -0.2878, -0.3066, -0.9139,  0.9533,\n",
       "         -0.7007,  0.0674,  0.1204, -0.4443,  0.4141, -0.8810, -0.1219, -0.0731,\n",
       "          0.4639,  0.4151, -1.0276, -0.2178,  0.8607, -0.3334,  0.4688,  2.6006,\n",
       "         -0.4429, -0.0950, -1.8406, -2.6407, -0.5276,  1.0152,  1.1424,  0.7612,\n",
       "         -0.3474, -0.9944, -0.1258, -1.7959, -0.0921,  0.0479, -0.1077, -0.1811,\n",
       "         -0.5834, -0.0115,  0.1957, -2.8379,  0.7729,  2.4884,  0.2280,  0.1376,\n",
       "          2.7649, -1.4118, -0.5934, -0.8127,  1.1379, -0.4447, -0.4920,  1.8808,\n",
       "         -0.0558, -1.1189,  1.6243, -0.3057, -1.3540,  0.9085, -2.5159, -0.2400,\n",
       "         -0.7443,  0.2416, -0.1534,  0.5247,  1.2025, -1.4271,  3.4358,  0.1345,\n",
       "         -1.2452, -0.3949, -0.8175, -0.6521,  0.7336,  0.1694,  0.6102, -0.0591,\n",
       "         -0.3474,  0.7786, -1.1313,  0.2624,  1.8163,  2.8894,  0.5653, -0.1431,\n",
       "          1.2066, -0.8461,  0.1339,  1.6818,  1.1159,  0.6296,  0.7208,  0.3388,\n",
       "         -4.3183, -0.9004, -0.1146,  1.2428,  0.2865, -1.2613,  1.0226,  0.0727,\n",
       "         -1.5938,  0.2705, -0.8658,  0.0094, -2.4547,  0.5799, -0.5478,  1.1690,\n",
       "         -1.4372,  0.5985, -0.0438, -1.7940, -0.3827, -0.7606, -0.1893,  0.8309,\n",
       "          0.9992, -0.0448, -1.6341,  0.5951,  0.9434,  0.6555, -1.2651,  0.5557],\n",
       "        [-0.6848,  0.6145, -0.1167, -1.0010, -1.2403, -0.1913,  1.5817, -0.6040,\n",
       "         -0.3919,  0.1848, -0.6423, -0.1447, -1.2338, -0.8287, -0.6429,  1.2090,\n",
       "          0.0035,  1.1187,  0.8927, -0.9804,  0.7068, -0.1886,  1.2812,  0.4689,\n",
       "          1.7057,  0.2329,  0.8215, -0.4605,  1.4699, -0.1391, -0.2436,  0.4444,\n",
       "         -0.8834,  1.2943, -0.5258, -1.5749,  0.6327, -1.3769, -0.9520, -1.0662,\n",
       "          0.2453,  0.2793,  0.0694,  0.5219, -1.3597,  0.8173, -0.3981, -0.1293,\n",
       "         -0.1807,  0.2113, -0.2962,  0.9376,  0.3856,  0.6329, -0.1848, -0.3862,\n",
       "          0.0745, -0.1888,  0.1283, -1.0237, -1.0186,  0.0075,  1.3151, -0.4716,\n",
       "          0.4322, -1.2077, -0.0283,  0.5828, -0.0405, -1.0401,  0.3650, -1.1057,\n",
       "         -0.0327, -0.3193, -0.4820,  0.2217,  0.0875, -1.6447,  0.4137,  0.4400,\n",
       "          0.6009, -0.6878, -0.4403, -0.0988,  1.0218, -0.5129,  1.2960, -0.7555,\n",
       "         -0.9807,  1.0379,  0.0899, -2.5271,  0.9460, -0.9755, -0.9356, -0.0495,\n",
       "          1.3640,  0.0194, -0.2881, -1.4372, -1.5509, -1.3517,  0.8797,  1.4858,\n",
       "          0.1533, -1.4655,  0.7026, -0.3174, -2.0918, -0.3257, -0.9409, -0.6243,\n",
       "         -0.9803, -0.6138, -0.3245, -1.5622,  0.3193,  0.8534, -0.6304, -0.4461,\n",
       "          1.3940, -1.2843, -0.3574, -0.9053, -1.1959,  1.4480,  0.0553, -1.4715]],\n",
       "       requires_grad=True)"
      ]
     },
     "execution_count": 8,
     "metadata": {},
     "output_type": "execute_result"
    }
   ],
   "source": [
    "control.clusters['learn_cluster_1'].coefs"
   ]
  }
 ],
 "metadata": {
  "kernelspec": {
   "display_name": "Python 3",
   "language": "python",
   "name": "python3"
  },
  "language_info": {
   "codemirror_mode": {
    "name": "ipython",
    "version": 3
   },
   "file_extension": ".py",
   "mimetype": "text/x-python",
   "name": "python",
   "nbconvert_exporter": "python",
   "pygments_lexer": "ipython3",
   "version": "3.6.7"
  }
 },
 "nbformat": 4,
 "nbformat_minor": 2
}
