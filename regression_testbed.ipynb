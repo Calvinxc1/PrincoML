{
 "cells": [
  {
   "cell_type": "code",
   "execution_count": 1,
   "metadata": {},
   "outputs": [],
   "source": [
    "import pandas as pd\n",
    "import numpy as np\n",
    "import torch as pt\n",
    "from scipy.linalg import qr\n",
    "import matplotlib.pyplot as plt\n",
    "%matplotlib inline\n",
    "\n",
    "#pt.set_default_tensor_type('torch.FloatTensor')\n",
    "pt.set_default_tensor_type('torch.cuda.FloatTensor')"
   ]
  },
  {
   "cell_type": "code",
   "execution_count": 2,
   "metadata": {},
   "outputs": [],
   "source": [
    "from ml_lib.Controller import Controller as Control\n",
    "#from ml_lib.clusters.root_cluster.RootCluster import RootCluster as Root\n",
    "from ml_lib.clusters.data_cluster.DataCluster import DataCluster as Data\n",
    "from ml_lib.clusters.learn_cluster.LearnCluster import LearnCluster as Learn"
   ]
  },
  {
   "cell_type": "code",
   "execution_count": 3,
   "metadata": {},
   "outputs": [],
   "source": [
    "dataset = pd.read_csv(\n",
    "    'data_files/kc_house_data.csv',\n",
    "    index_col = 'id', parse_dates = ['date'], date_parser = lambda x: pd.datetime.strptime(x, '%Y%m%dT%H%M%S')\n",
    ")\n",
    "dataset = dataset[[col for col in dataset.columns if not col.endswith('15')]]\n",
    "feature_cols = ['sqft_living', 'bedrooms', 'bathrooms']\n",
    "target_cols = ['price']"
   ]
  },
  {
   "cell_type": "code",
   "execution_count": 4,
   "metadata": {},
   "outputs": [
    {
     "name": "stdout",
     "output_type": "stream",
     "text": [
      "2018-12-18 21:56:00.030369 | N/A:data_cluster (DataCluster) - Data frame added, overwrite False.\n",
      "2018-12-18 21:56:00.031041 | N/A:data_cluster:splitter (BaseSplit) - Splits generated: train 17290 obs, holdout 4323 obs. 21613 total obs\n",
      "2018-12-18 21:56:00.031573 | regression_controller:data_cluster (DataCluster) - Cluster learn_cluster added to output links.\n",
      "2018-12-18 21:56:00.031628 | regression_controller:learn_cluster (LearnCluster) - Cluster data_cluster added to input links.\n",
      "2018-12-18 21:56:00.031738 | regression_controller:learn_cluster (LearnCluster) - Cluster data_cluster added to output links.\n",
      "2018-12-18 21:56:00.031793 | regression_controller:data_cluster (DataCluster) - Cluster learn_cluster added to input links.\n"
     ]
    }
   ],
   "source": [
    "verbose = True\n",
    "\n",
    "control = Control('regression_controller')\n",
    "\n",
    "control.add_cluster(\n",
    "    Data(\n",
    "        'data_cluster',\n",
    "        dataset[feature_cols + target_cols],\n",
    "        splitter_kwargs = {'verbose': verbose},\n",
    "        batcher_kwargs = {'verbose': verbose, 'proportion': 0.1},\n",
    "        loss_kwargs = {'verbose': verbose},\n",
    "        loss_combiner_kwargs = {'verbose': verbose},\n",
    "        verbose = verbose\n",
    "    )\n",
    ")\n",
    "\n",
    "control.link_add(\n",
    "    Learn(\n",
    "        'learn_cluster',\n",
    "        module_kwargs = {\n",
    "            'nodes': len(target_cols),\n",
    "            'verbose': verbose,\n",
    "            'bias_init_kwargs': {'verbose': verbose},\n",
    "            'weight_init_kwargs': {'verbose': verbose},\n",
    "            'combiner_kwargs': {'verbose': verbose},\n",
    "            'activator_kwargs': {'verbose': verbose},\n",
    "            'learner_kwargs': {'verbose': verbose}\n",
    "        },\n",
    "        verbose = verbose\n",
    "    ),\n",
    "    'data_cluster', 'input', data_cols = feature_cols\n",
    ")\n",
    "\n",
    "control.link_clusters('learn_cluster', 'data_cluster', data_cols = target_cols)"
   ]
  },
  {
   "cell_type": "code",
   "execution_count": 5,
   "metadata": {},
   "outputs": [
    {
     "name": "stdout",
     "output_type": "stream",
     "text": [
      "2018-12-18 21:56:00.038345 | regression_controller:data_cluster (DataCluster) - Cluster enabled.\n",
      "2018-12-18 21:56:00.038404 | regression_controller:learn_cluster (LearnCluster) - Cluster enabled.\n",
      "2018-12-18 21:56:00.038705 | N/A:learn_cluster:dense_module:initialiser (FlatInit) - Tensor shape (1, 1) created with flat value 0.\n",
      "2018-12-18 21:56:00.040028 | N/A:learn_cluster:dense_module:initialiser (NormalInit) - Tensor shape (3, 1) created with normal mean 0 & stdev 1.\n",
      "2018-12-18 21:56:00.041930 | N/A:learn_cluster:module (DenseModule) - Generated coefficient tensor of shape (4, 1)\n",
      "2018-12-18 21:56:00.042495 | N/A:data_cluster:batcher (FlatBatch) - Batch generated: train 1729 obs, holdout 432 obs.\n"
     ]
    }
   ],
   "source": [
    "control.enable_network()\n",
    "control.build_batch_splits()"
   ]
  },
  {
   "cell_type": "code",
   "execution_count": 6,
   "metadata": {},
   "outputs": [
    {
     "name": "stdout",
     "output_type": "stream",
     "text": [
      "2018-12-18 21:56:00.049136 | regression_controller:data_cluster (DataCluster) - Output tensor shape (2161, 3) provided.\n",
      "2018-12-18 21:56:00.263947 | N/A:learn_cluster:dense_module:combiner (SimpleCombine) - Combined to produce (2161, 1) shape tensor\n",
      "2018-12-18 21:56:00.264076 | N/A:learn_cluster:dense_module:activator (LinearActivate) - Linear Activation on (2161, 1) shape tensor\n"
     ]
    },
    {
     "ename": "RuntimeError",
     "evalue": "index 17280 is out of bounds for dimension 0 with size 2161",
     "output_type": "error",
     "traceback": [
      "\u001b[0;31m---------------------------------------------------------------------------\u001b[0m",
      "\u001b[0;31mRuntimeError\u001b[0m                              Traceback (most recent call last)",
      "\u001b[0;32m<ipython-input-6-c52e9a47d7d3>\u001b[0m in \u001b[0;36m<module>\u001b[0;34m()\u001b[0m\n\u001b[0;32m----> 1\u001b[0;31m \u001b[0mcontrol\u001b[0m\u001b[0;34m.\u001b[0m\u001b[0mclusters\u001b[0m\u001b[0;34m[\u001b[0m\u001b[0;34m'data_cluster'\u001b[0m\u001b[0;34m]\u001b[0m\u001b[0;34m.\u001b[0m\u001b[0mloss\u001b[0m\u001b[0;34m\u001b[0m\u001b[0;34m\u001b[0m\u001b[0m\n\u001b[0m",
      "\u001b[0;32m~/jupyter_files/tf_modular_nn/ml_lib/clusters/data_cluster/DataCluster.py\u001b[0m in \u001b[0;36mloss\u001b[0;34m(self)\u001b[0m\n\u001b[1;32m    111\u001b[0m             \u001b[0mloss_vals\u001b[0m \u001b[0;34m=\u001b[0m \u001b[0;34m{\u001b[0m\u001b[0;34m}\u001b[0m\u001b[0;34m\u001b[0m\u001b[0;34m\u001b[0m\u001b[0m\n\u001b[1;32m    112\u001b[0m             \u001b[0;32mfor\u001b[0m \u001b[0mbatch_name\u001b[0m\u001b[0;34m,\u001b[0m \u001b[0mbatch_idx\u001b[0m \u001b[0;32min\u001b[0m \u001b[0mself\u001b[0m\u001b[0;34m.\u001b[0m\u001b[0mbatch_splits\u001b[0m\u001b[0;34m.\u001b[0m\u001b[0mitems\u001b[0m\u001b[0;34m(\u001b[0m\u001b[0;34m)\u001b[0m\u001b[0;34m:\u001b[0m\u001b[0;34m\u001b[0m\u001b[0;34m\u001b[0m\u001b[0m\n\u001b[0;32m--> 113\u001b[0;31m                 \u001b[0mpredict_tensor\u001b[0m \u001b[0;34m=\u001b[0m \u001b[0mself\u001b[0m\u001b[0;34m.\u001b[0m\u001b[0minput_tensor\u001b[0m\u001b[0;34m[\u001b[0m\u001b[0mbatch_idx\u001b[0m\u001b[0;34m,\u001b[0m \u001b[0;34m:\u001b[0m\u001b[0;34m]\u001b[0m\u001b[0;34m\u001b[0m\u001b[0;34m\u001b[0m\u001b[0m\n\u001b[0m\u001b[1;32m    114\u001b[0m                 \u001b[0mtarget_tensor\u001b[0m \u001b[0;34m=\u001b[0m \u001b[0mself\u001b[0m\u001b[0;34m.\u001b[0m\u001b[0mtarget_tensor\u001b[0m\u001b[0;34m[\u001b[0m\u001b[0mbatch_idx\u001b[0m\u001b[0;34m,\u001b[0m \u001b[0;34m:\u001b[0m\u001b[0;34m]\u001b[0m\u001b[0;34m\u001b[0m\u001b[0;34m\u001b[0m\u001b[0m\n\u001b[1;32m    115\u001b[0m                 \u001b[0mloss_tensor\u001b[0m \u001b[0;34m=\u001b[0m \u001b[0mself\u001b[0m\u001b[0;34m.\u001b[0m\u001b[0mLoss\u001b[0m\u001b[0;34m.\u001b[0m\u001b[0mloss\u001b[0m\u001b[0;34m(\u001b[0m\u001b[0mtarget_tensor\u001b[0m\u001b[0;34m,\u001b[0m \u001b[0mpredict_tensor\u001b[0m\u001b[0;34m)\u001b[0m\u001b[0;34m\u001b[0m\u001b[0;34m\u001b[0m\u001b[0m\n",
      "\u001b[0;31mRuntimeError\u001b[0m: index 17280 is out of bounds for dimension 0 with size 2161"
     ]
    }
   ],
   "source": [
    "control.clusters['data_cluster'].loss"
   ]
  }
 ],
 "metadata": {
  "kernelspec": {
   "display_name": "Python 3",
   "language": "python",
   "name": "python3"
  },
  "language_info": {
   "codemirror_mode": {
    "name": "ipython",
    "version": 3
   },
   "file_extension": ".py",
   "mimetype": "text/x-python",
   "name": "python",
   "nbconvert_exporter": "python",
   "pygments_lexer": "ipython3",
   "version": "3.6.7"
  }
 },
 "nbformat": 4,
 "nbformat_minor": 2
}
