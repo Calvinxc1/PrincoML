{
 "cells": [
  {
   "cell_type": "code",
   "execution_count": 1,
   "metadata": {},
   "outputs": [],
   "source": [
    "import pandas as pd\n",
    "import numpy as np\n",
    "from scipy.special import factorial\n",
    "import torch as pt\n",
    "import tqdm\n",
    "import matplotlib.pyplot as plt\n",
    "import seaborn as sns\n",
    "from statsmodels.tsa.arima_model import ARIMA\n",
    "import ujson as js\n",
    "import mysql.connector as mdb\n",
    "\n",
    "pt.set_default_tensor_type('torch.FloatTensor')\n",
    "#pt.set_default_tensor_type('torch.cuda.FloatTensor')\n",
    "pd.set_option('display.max_rows', 2000)"
   ]
  },
  {
   "cell_type": "code",
   "execution_count": 2,
   "metadata": {},
   "outputs": [],
   "source": [
    "def calc_grads(loss, coefs):\n",
    "    coef_names = []\n",
    "    coef_vals = []\n",
    "    for coef_name, coef_val in coefs.items():\n",
    "        coef_names.append(coef_name)\n",
    "        coef_vals.append(coef_val)\n",
    "\n",
    "    new_grad = pt.autograd.grad(loss, coef_vals, retain_graph = True)\n",
    "\n",
    "    gradients = {}\n",
    "    for coef_name, coef_grad in zip(coef_names, new_grad):\n",
    "        gradients[coef_name] = coef_grad\n",
    "\n",
    "    return gradients"
   ]
  },
  {
   "cell_type": "code",
   "execution_count": 3,
   "metadata": {},
   "outputs": [],
   "source": [
    "with open('conn_params.json') as file:\n",
    "    conn_params = js.load(file)"
   ]
  },
  {
   "cell_type": "code",
   "execution_count": 4,
   "metadata": {},
   "outputs": [],
   "source": [
    "conn = mdb.connect(**conn_params)"
   ]
  },
  {
   "cell_type": "code",
   "execution_count": 5,
   "metadata": {},
   "outputs": [],
   "source": [
    "sql_code = \"\"\"\n",
    "SELECT MarketRecord.record_date,\n",
    "\tMarketRecord.type_id,\n",
    "\tTypes.type_name,\n",
    "\tMarketRecord.region_id,\n",
    "\tMapRegions.region_name,\n",
    "\tMarketRecord.order_count,\n",
    "\tMarketRecord.volume,\n",
    "\tMarketRecord.low_price,\n",
    "\tMarketRecord.avg_price,\n",
    "\tMarketRecord.high_price\n",
    "FROM MarketRecord\n",
    "JOIN Types\n",
    "\tON MarketRecord.type_id = Types.type_id\n",
    "JOIN MapRegions\n",
    "\tON MarketRecord.region_id = MapRegions.region_id\n",
    "WHERE MarketRecord.type_id IN (%s)\n",
    "\tAND MarketRecord.region_id IN (%s)\n",
    ";\"\"\""
   ]
  },
  {
   "cell_type": "code",
   "execution_count": 6,
   "metadata": {},
   "outputs": [],
   "source": [
    "dataset = pd.read_sql(\n",
    "    sql_code % (\n",
    "        ','.join([str(x) for x in [34,35,36,37,38,39,40]]),\n",
    "        10000002\n",
    "    ),\n",
    "    conn\n",
    ")\n",
    "conn.close()\n",
    "dataset['record_date'] = pd.to_datetime(dataset['record_date'])"
   ]
  },
  {
   "cell_type": "code",
   "execution_count": 7,
   "metadata": {},
   "outputs": [],
   "source": [
    "group_cols = ['type_name']\n",
    "idx_col = 'record_date'\n",
    "data_cols = ['volume', 'avg_price']\n",
    "\n",
    "root_data = pd.DataFrame(\n",
    "    index = pd.date_range(\n",
    "        dataset[idx_col].min(),\n",
    "        dataset[idx_col].max()\n",
    "    )\n",
    ")\n",
    "working_data = root_data.copy()"
   ]
  },
  {
   "cell_type": "code",
   "execution_count": 8,
   "metadata": {},
   "outputs": [],
   "source": [
    "for group, data in dataset.groupby(group_cols):\n",
    "    group = group if type(group) is tuple else (group,)\n",
    "    for data_col in data_cols:\n",
    "        data_item = root_data.join(\n",
    "            data.set_index(idx_col)[data_col],\n",
    "            how = 'left'\n",
    "        )\n",
    "        working_data.insert(\n",
    "            len(working_data.columns),\n",
    "            '%s|%s' % (\n",
    "                '_'.join([str(x) for x in group]),\n",
    "                data_col\n",
    "            ),\n",
    "            data_item\n",
    "        )"
   ]
  },
  {
   "cell_type": "code",
   "execution_count": 9,
   "metadata": {},
   "outputs": [],
   "source": [
    "working_data[[\n",
    "    col for col in working_data.columns if col.endswith('|avg_price')\n",
    "]] = working_data[[\n",
    "    col for col in working_data.columns if col.endswith('|avg_price')\n",
    "]].fillna(method = 'ffill').fillna(method = 'bfill')\n",
    "working_data[[\n",
    "    col for col in working_data.columns if col.endswith('|volume')\n",
    "]] = working_data[[\n",
    "    col for col in working_data.columns if col.endswith('|volume')\n",
    "]].fillna(0)"
   ]
  },
  {
   "cell_type": "code",
   "execution_count": 10,
   "metadata": {},
   "outputs": [],
   "source": [
    "derivs = 2\n",
    "horizon = 7\n",
    "\n",
    "data_tensor = pt.from_numpy(working_data[[col for col in working_data.columns if col.endswith('|avg_price')]].values).type(pt.Tensor)\n",
    "coefs = {\n",
    "    'state': pt.zeros(derivs+1,data_tensor.shape[1])\n",
    "}\n",
    "\n",
    "learn_rate = 1e-0\n",
    "alpha = 0.2\n",
    "beta = 0.1\n",
    "grad = {}\n",
    "grad_sq = {}\n",
    "clamp = 1e-16\n",
    "\n",
    "loss_rcd = []"
   ]
  },
  {
   "cell_type": "code",
   "execution_count": 11,
   "metadata": {},
   "outputs": [
    {
     "data": {
      "application/vnd.jupyter.widget-view+json": {
       "model_id": "b0a440ffc27d47d1a66728cdc2db67b9",
       "version_major": 2,
       "version_minor": 0
      },
      "text/plain": [
       "HBox(children=(IntProgress(value=0, max=250), HTML(value='')))"
      ]
     },
     "metadata": {},
     "output_type": "display_data"
    },
    {
     "name": "stdout",
     "output_type": "stream",
     "text": [
      "\n"
     ]
    }
   ],
   "source": [
    "t = tqdm.tnrange(250)\n",
    "for e in t:\n",
    "    for value in coefs.values(): value.requires_grad = True\n",
    "    coefs_proc = {}\n",
    "    for key, value in coefs.items():\n",
    "        if key in ('state',):\n",
    "            coefs_proc[key] = pt.sigmoid(value)\n",
    "        else:\n",
    "            coefs_proc[key] = value\n",
    "\n",
    "    state = [pt.stack([data_tensor[0,:], *([pt.zeros(data_tensor.shape[1])] * (derivs))], dim=0)]\n",
    "    state_actual = [pt.stack([data_tensor[0,:], *([pt.zeros(data_tensor.shape[1])] * (derivs))], dim=0)]\n",
    "    updater = np.stack([1 / factorial(i) for i in range(derivs+1)])\n",
    "    updater = pt.from_numpy(np.stack([\n",
    "        updater,\n",
    "        *[\n",
    "            np.pad(updater[:-j], (j,0), 'constant', constant_values = 0)\n",
    "            for j in range(1,derivs+1)\n",
    "        ]\n",
    "    ], axis = 0)).type(pt.Tensor)\n",
    "    \n",
    "    for new_vals in data_tensor[1:,:]:\n",
    "        predict_state = updater @ state[-1]\n",
    "        new_state = [(\n",
    "            coefs_proc['state'][0,:] * new_vals\n",
    "        ) + (\n",
    "            (1-coefs_proc['state'][0,:]) * predict_state[0,:]\n",
    "        )]\n",
    "        for d in range(1,derivs+1):\n",
    "            new_state.append((\n",
    "                    coefs_proc['state'][d,:] * (new_state[-1] - state[-1][d-1,:])\n",
    "                ) + (\n",
    "                    (1-coefs_proc['state'][d,:]) * predict_state[d,:]\n",
    "            ))\n",
    "        new_state = pt.stack(new_state, dim=0)\n",
    "        state.append(new_state)\n",
    "    state = pt.stack(state, dim=0)\n",
    "    \n",
    "    errors = []\n",
    "    predictor = state.clone()\n",
    "    for h in range(1,horizon+1):\n",
    "        predictor = updater @ predictor\n",
    "        predict = pt.clamp(predictor[:-h,0,:],0.01,np.inf)\n",
    "        actual = data_tensor[h:,:]\n",
    "        error = pt.sqrt((pt.log(predict / actual)**2).mean(dim=0))\n",
    "        errors.append(error)\n",
    "    errors = pt.stack(errors,dim=0)\n",
    "    loss = pt.log(errors).mean()\n",
    "    loss_rcd.append(loss.detach().cpu().numpy())\n",
    "    t.set_postfix({'loss': loss_rcd[-1]})\n",
    "\n",
    "    gradient = calc_grads(loss, coefs)\n",
    "\n",
    "    with pt.no_grad():\n",
    "        for key, value in gradient.items():\n",
    "            grad[key] = (alpha * value) + ((1-alpha) * grad.get(key, value))\n",
    "            grad_sq[key] = (beta * (value**2)) + ((1-beta) * grad_sq.get(key, value**2))\n",
    "            learn_step = grad[key] / pt.clamp(pt.sqrt(grad_sq[key]), clamp, np.inf)\n",
    "            coefs[key] = coefs[key] - (learn_step * learn_rate / (derivs+1))"
   ]
  },
  {
   "cell_type": "code",
   "execution_count": 12,
   "metadata": {},
   "outputs": [
    {
     "data": {
      "text/plain": [
       "[<matplotlib.lines.Line2D at 0x7f6ee8e87240>]"
      ]
     },
     "execution_count": 12,
     "metadata": {},
     "output_type": "execute_result"
    },
    {
     "data": {
      "image/png": "[encoded data removed]",
      "text/plain": [
       "<Figure size 1152x720 with 1 Axes>"
      ]
     },
     "metadata": {
      "needs_background": "light"
     },
     "output_type": "display_data"
    }
   ],
   "source": [
    "plt.figure(figsize=(16,10))\n",
    "plt.plot(loss_rcd)"
   ]
  },
  {
   "cell_type": "code",
   "execution_count": 13,
   "metadata": {},
   "outputs": [
    {
     "data": {
      "text/html": [
       "<div>\n",
       "<style scoped>\n",
       "    .dataframe tbody tr th:only-of-type {\n",
       "        vertical-align: middle;\n",
       "    }\n",
       "\n",
       "    .dataframe tbody tr th {\n",
       "        vertical-align: top;\n",
       "    }\n",
       "\n",
       "    .dataframe thead th {\n",
       "        text-align: right;\n",
       "    }\n",
       "</style>\n",
       "<table border=\"1\" class=\"dataframe\">\n",
       "  <thead>\n",
       "    <tr style=\"text-align: right;\">\n",
       "      <th></th>\n",
       "      <th>Isogen</th>\n",
       "      <th>Megacyte</th>\n",
       "      <th>Mexallon</th>\n",
       "      <th>Nocxium</th>\n",
       "      <th>Pyerite</th>\n",
       "      <th>Tritanium</th>\n",
       "      <th>Zydrine</th>\n",
       "    </tr>\n",
       "  </thead>\n",
       "  <tbody>\n",
       "    <tr>\n",
       "      <th>0</th>\n",
       "      <td>0.024571</td>\n",
       "      <td>0.035023</td>\n",
       "      <td>0.020576</td>\n",
       "      <td>0.025216</td>\n",
       "      <td>0.024655</td>\n",
       "      <td>0.020616</td>\n",
       "      <td>0.025753</td>\n",
       "    </tr>\n",
       "    <tr>\n",
       "      <th>1</th>\n",
       "      <td>0.031076</td>\n",
       "      <td>0.041073</td>\n",
       "      <td>0.026139</td>\n",
       "      <td>0.031217</td>\n",
       "      <td>0.030125</td>\n",
       "      <td>0.026120</td>\n",
       "      <td>0.032501</td>\n",
       "    </tr>\n",
       "    <tr>\n",
       "      <th>2</th>\n",
       "      <td>0.036062</td>\n",
       "      <td>0.047863</td>\n",
       "      <td>0.030231</td>\n",
       "      <td>0.036437</td>\n",
       "      <td>0.033444</td>\n",
       "      <td>0.029458</td>\n",
       "      <td>0.037139</td>\n",
       "    </tr>\n",
       "    <tr>\n",
       "      <th>3</th>\n",
       "      <td>0.039993</td>\n",
       "      <td>0.052508</td>\n",
       "      <td>0.033608</td>\n",
       "      <td>0.040443</td>\n",
       "      <td>0.035852</td>\n",
       "      <td>0.032069</td>\n",
       "      <td>0.041207</td>\n",
       "    </tr>\n",
       "    <tr>\n",
       "      <th>4</th>\n",
       "      <td>0.043273</td>\n",
       "      <td>0.057008</td>\n",
       "      <td>0.036570</td>\n",
       "      <td>0.043984</td>\n",
       "      <td>0.038063</td>\n",
       "      <td>0.034288</td>\n",
       "      <td>0.045117</td>\n",
       "    </tr>\n",
       "    <tr>\n",
       "      <th>5</th>\n",
       "      <td>0.046437</td>\n",
       "      <td>0.060641</td>\n",
       "      <td>0.039259</td>\n",
       "      <td>0.046920</td>\n",
       "      <td>0.039869</td>\n",
       "      <td>0.037015</td>\n",
       "      <td>0.048952</td>\n",
       "    </tr>\n",
       "    <tr>\n",
       "      <th>6</th>\n",
       "      <td>0.049195</td>\n",
       "      <td>0.064214</td>\n",
       "      <td>0.042104</td>\n",
       "      <td>0.049609</td>\n",
       "      <td>0.041581</td>\n",
       "      <td>0.039339</td>\n",
       "      <td>0.052462</td>\n",
       "    </tr>\n",
       "  </tbody>\n",
       "</table>\n",
       "</div>"
      ],
      "text/plain": [
       "     Isogen  Megacyte  Mexallon   Nocxium   Pyerite  Tritanium   Zydrine\n",
       "0  0.024571  0.035023  0.020576  0.025216  0.024655   0.020616  0.025753\n",
       "1  0.031076  0.041073  0.026139  0.031217  0.030125   0.026120  0.032501\n",
       "2  0.036062  0.047863  0.030231  0.036437  0.033444   0.029458  0.037139\n",
       "3  0.039993  0.052508  0.033608  0.040443  0.035852   0.032069  0.041207\n",
       "4  0.043273  0.057008  0.036570  0.043984  0.038063   0.034288  0.045117\n",
       "5  0.046437  0.060641  0.039259  0.046920  0.039869   0.037015  0.048952\n",
       "6  0.049195  0.064214  0.042104  0.049609  0.041581   0.039339  0.052462"
      ]
     },
     "execution_count": 13,
     "metadata": {},
     "output_type": "execute_result"
    }
   ],
   "source": [
    "pd.DataFrame(\n",
    "    errors.detach().cpu().numpy(),\n",
    "    columns = [\n",
    "        col.replace('|avg_price', '')\n",
    "        for col in working_data.columns\n",
    "        if col.endswith('|avg_price')\n",
    "    ]\n",
    ")"
   ]
  },
  {
   "cell_type": "code",
   "execution_count": 14,
   "metadata": {},
   "outputs": [
    {
     "data": {
      "text/html": [
       "<div>\n",
       "<style scoped>\n",
       "    .dataframe tbody tr th:only-of-type {\n",
       "        vertical-align: middle;\n",
       "    }\n",
       "\n",
       "    .dataframe tbody tr th {\n",
       "        vertical-align: top;\n",
       "    }\n",
       "\n",
       "    .dataframe thead th {\n",
       "        text-align: right;\n",
       "    }\n",
       "</style>\n",
       "<table border=\"1\" class=\"dataframe\">\n",
       "  <thead>\n",
       "    <tr style=\"text-align: right;\">\n",
       "      <th></th>\n",
       "      <th>Isogen</th>\n",
       "      <th>Megacyte</th>\n",
       "      <th>Mexallon</th>\n",
       "      <th>Nocxium</th>\n",
       "      <th>Pyerite</th>\n",
       "      <th>Tritanium</th>\n",
       "      <th>Zydrine</th>\n",
       "    </tr>\n",
       "  </thead>\n",
       "  <tbody>\n",
       "    <tr>\n",
       "      <th>0</th>\n",
       "      <td>0.687437</td>\n",
       "      <td>0.656199</td>\n",
       "      <td>7.289594e-01</td>\n",
       "      <td>0.670089</td>\n",
       "      <td>0.482910</td>\n",
       "      <td>6.580094e-01</td>\n",
       "      <td>0.736704</td>\n",
       "    </tr>\n",
       "    <tr>\n",
       "      <th>1</th>\n",
       "      <td>0.001357</td>\n",
       "      <td>0.000319</td>\n",
       "      <td>3.951238e-08</td>\n",
       "      <td>0.001164</td>\n",
       "      <td>0.002185</td>\n",
       "      <td>7.050846e-08</td>\n",
       "      <td>0.000002</td>\n",
       "    </tr>\n",
       "    <tr>\n",
       "      <th>2</th>\n",
       "      <td>0.012138</td>\n",
       "      <td>0.000005</td>\n",
       "      <td>6.345614e-04</td>\n",
       "      <td>0.007746</td>\n",
       "      <td>0.008313</td>\n",
       "      <td>4.863031e-04</td>\n",
       "      <td>0.000139</td>\n",
       "    </tr>\n",
       "  </tbody>\n",
       "</table>\n",
       "</div>"
      ],
      "text/plain": [
       "     Isogen  Megacyte      Mexallon   Nocxium   Pyerite     Tritanium  \\\n",
       "0  0.687437  0.656199  7.289594e-01  0.670089  0.482910  6.580094e-01   \n",
       "1  0.001357  0.000319  3.951238e-08  0.001164  0.002185  7.050846e-08   \n",
       "2  0.012138  0.000005  6.345614e-04  0.007746  0.008313  4.863031e-04   \n",
       "\n",
       "    Zydrine  \n",
       "0  0.736704  \n",
       "1  0.000002  \n",
       "2  0.000139  "
      ]
     },
     "execution_count": 14,
     "metadata": {},
     "output_type": "execute_result"
    }
   ],
   "source": [
    "pd.DataFrame(\n",
    "    pt.sigmoid(coefs['state']).detach().cpu().numpy(),\n",
    "    columns = [\n",
    "        col.replace('|avg_price', '')\n",
    "        for col in working_data.columns\n",
    "        if col.endswith('|avg_price')\n",
    "    ]\n",
    ")"
   ]
  },
  {
   "cell_type": "code",
   "execution_count": 15,
   "metadata": {},
   "outputs": [
    {
     "data": {
      "text/plain": [
       "[<matplotlib.lines.Line2D at 0x7f6ee9021208>]"
      ]
     },
     "execution_count": 15,
     "metadata": {},
     "output_type": "execute_result"
    },
    {
     "data": {
      "image/png": "[encoded data removed]",
      "text/plain": [
       "<Figure size 1152x720 with 1 Axes>"
      ]
     },
     "metadata": {
      "needs_background": "light"
     },
     "output_type": "display_data"
    }
   ],
   "source": [
    "idx = 6\n",
    "plt.figure(figsize=(16,10))\n",
    "plt.plot(data_tensor[:,idx].detach().cpu().numpy())\n",
    "plt.plot(state[:,0,idx].detach().cpu().numpy())"
   ]
  }
 ],
 "metadata": {
  "kernelspec": {
   "display_name": "Python 3",
   "language": "python",
   "name": "python3"
  },
  "language_info": {
   "codemirror_mode": {
    "name": "ipython",
    "version": 3
   },
   "file_extension": ".py",
   "mimetype": "text/x-python",
   "name": "python",
   "nbconvert_exporter": "python",
   "pygments_lexer": "ipython3",
   "version": "3.6.7"
  }
 },
 "nbformat": 4,
 "nbformat_minor": 2
}
