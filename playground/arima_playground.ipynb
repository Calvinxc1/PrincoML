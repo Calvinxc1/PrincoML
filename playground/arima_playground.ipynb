{
 "cells": [
  {
   "cell_type": "code",
   "execution_count": 624,
   "metadata": {},
   "outputs": [],
   "source": [
    "import pandas as pd\n",
    "import numpy as np\n",
    "from scipy.special import factorial\n",
    "import torch as pt\n",
    "import tqdm\n",
    "import matplotlib.pyplot as plt\n",
    "import seaborn as sns\n",
    "from statsmodels.tsa.arima_model import ARIMA\n",
    "import ujson as js\n",
    "import mysql.connector as mdb\n",
    "\n",
    "pt.set_default_tensor_type('torch.FloatTensor')\n",
    "#pt.set_default_tensor_type('torch.cuda.FloatTensor')\n",
    "pd.set_option('display.max_rows', 2000)"
   ]
  },
  {
   "cell_type": "code",
   "execution_count": 625,
   "metadata": {},
   "outputs": [],
   "source": [
    "with open('conn_params.json') as file:\n",
    "    conn_params = js.load(file)"
   ]
  },
  {
   "cell_type": "code",
   "execution_count": 626,
   "metadata": {},
   "outputs": [],
   "source": [
    "conn = mdb.connect(**conn_params)"
   ]
  },
  {
   "cell_type": "code",
   "execution_count": 627,
   "metadata": {},
   "outputs": [],
   "source": [
    "sql_code = \"\"\"\n",
    "SELECT MarketRecord.record_date,\n",
    "\tMarketRecord.type_id,\n",
    "\tTypes.type_name,\n",
    "\tMarketRecord.region_id,\n",
    "\tMapRegions.region_name,\n",
    "\tMarketRecord.order_count,\n",
    "\tMarketRecord.volume,\n",
    "\tMarketRecord.low_price,\n",
    "\tMarketRecord.avg_price,\n",
    "\tMarketRecord.high_price\n",
    "FROM MarketRecord\n",
    "JOIN Types\n",
    "\tON MarketRecord.type_id = Types.type_id\n",
    "JOIN MapRegions\n",
    "\tON MarketRecord.region_id = MapRegions.region_id\n",
    "WHERE MarketRecord.type_id IN (%s)\n",
    "\tAND MarketRecord.region_id IN (%s)\n",
    ";\"\"\""
   ]
  },
  {
   "cell_type": "code",
   "execution_count": 628,
   "metadata": {},
   "outputs": [],
   "source": [
    "dataset = pd.read_sql(\n",
    "    sql_code % (\n",
    "        ','.join([str(x) for x in [34,35,36,37,38,39,40]]),\n",
    "        10000002\n",
    "    ),\n",
    "    conn\n",
    ")\n",
    "conn.close()\n",
    "dataset['record_date'] = pd.to_datetime(dataset['record_date'])"
   ]
  },
  {
   "cell_type": "code",
   "execution_count": 629,
   "metadata": {},
   "outputs": [],
   "source": [
    "group_cols = ['type_name']\n",
    "idx_col = 'record_date'\n",
    "data_cols = ['volume', 'avg_price']\n",
    "\n",
    "root_data = pd.DataFrame(\n",
    "    index = pd.date_range(\n",
    "        dataset[idx_col].min(),\n",
    "        dataset[idx_col].max()\n",
    "    )\n",
    ")\n",
    "working_data = root_data.copy()"
   ]
  },
  {
   "cell_type": "code",
   "execution_count": 630,
   "metadata": {},
   "outputs": [],
   "source": [
    "for group, data in dataset.groupby(group_cols):\n",
    "    group = group if type(group) is tuple else (group,)\n",
    "    for data_col in data_cols:\n",
    "        data_item = root_data.join(\n",
    "            data.set_index(idx_col)[data_col],\n",
    "            how = 'left'\n",
    "        )\n",
    "        working_data.insert(\n",
    "            len(working_data.columns),\n",
    "            '%s|%s' % (\n",
    "                '_'.join([str(x) for x in group]),\n",
    "                data_col\n",
    "            ),\n",
    "            data_item\n",
    "        )"
   ]
  },
  {
   "cell_type": "code",
   "execution_count": 631,
   "metadata": {},
   "outputs": [],
   "source": [
    "working_data[[\n",
    "    col for col in working_data.columns if col.endswith('|avg_price')\n",
    "]] = working_data[[\n",
    "    col for col in working_data.columns if col.endswith('|avg_price')\n",
    "]].fillna(method = 'ffill').fillna(method = 'bfill')\n",
    "working_data[[\n",
    "    col for col in working_data.columns if col.endswith('|volume')\n",
    "]] = working_data[[\n",
    "    col for col in working_data.columns if col.endswith('|volume')\n",
    "]].fillna(0)"
   ]
  },
  {
   "cell_type": "code",
   "execution_count": 632,
   "metadata": {},
   "outputs": [],
   "source": [
    "data_tensor = pt.from_numpy(working_data[[col for col in working_data.columns if col.endswith('|avg_price')]].values).type(pt.Tensor)"
   ]
  },
  {
   "cell_type": "code",
   "execution_count": 651,
   "metadata": {},
   "outputs": [],
   "source": [
    "derivs = 2"
   ]
  },
  {
   "cell_type": "code",
   "execution_count": 652,
   "metadata": {},
   "outputs": [],
   "source": [
    "coefs = pt.zeros(derivs+1)"
   ]
  },
  {
   "cell_type": "code",
   "execution_count": 653,
   "metadata": {},
   "outputs": [],
   "source": [
    "state = [pt.stack([data_tensor[0,:], *([pt.zeros(data_tensor.shape[1])] * (derivs))], dim=0)]\n",
    "state_actual = [pt.stack([data_tensor[0,:], *([pt.zeros(data_tensor.shape[1])] * (derivs))], dim=0)]\n",
    "updater = np.stack([1 / factorial(i) for i in range(derivs+1)])\n",
    "updater = pt.from_numpy(np.stack([\n",
    "    updater,\n",
    "    *[\n",
    "        np.pad(updater[:-j], (j,0), 'constant', constant_values = 0)\n",
    "        for j in range(1,derivs+1)\n",
    "    ]\n",
    "], axis = 0)).type(pt.Tensor)\n",
    "\n",
    "coefs.requires_grad = True\n",
    "coefs_sig = pt.sigmoid(coefs)"
   ]
  },
  {
   "cell_type": "code",
   "execution_count": 654,
   "metadata": {},
   "outputs": [],
   "source": [
    "for new_vals in data_tensor[1:,:]:\n",
    "    predict_state = updater @ state[-1]\n",
    "    new_state = [(coefs_sig[0] * new_vals) + ((1-coefs_sig[0]) * predict_state[0,:])]\n",
    "    for d in range(1,derivs+1):\n",
    "        new_state.append((\n",
    "                coefs_sig[d] * (new_state[-1] - state[-1][d-1,:])\n",
    "            ) + (\n",
    "                (1-coefs_sig[d]) * predict_state[d,:]\n",
    "        ))\n",
    "    new_state = pt.stack(new_state, dim=0)\n",
    "    state.append(new_state)\n",
    "state = pt.stack(state, dim=0)"
   ]
  },
  {
   "cell_type": "code",
   "execution_count": 664,
   "metadata": {},
   "outputs": [],
   "source": []
  },
  {
   "cell_type": "code",
   "execution_count": 669,
   "metadata": {},
   "outputs": [
    {
     "data": {
      "text/plain": [
       "tensor([[0.0000e+00, 0.0000e+00, 0.0000e+00,  ..., 0.0000e+00, 0.0000e+00,\n",
       "         0.0000e+00],\n",
       "        [2.0213e-06, 1.1797e-02, 4.6587e-07,  ..., 2.4682e-06, 6.2760e-06,\n",
       "         3.2342e-05],\n",
       "        [1.0286e-04, 3.0239e-04, 2.9788e-05,  ..., 9.3546e-06, 1.4369e-06,\n",
       "         8.4897e-04],\n",
       "        ...,\n",
       "        [1.8163e-04, 2.3261e-04, 2.3374e-04,  ..., 4.7611e-06, 1.7411e-05,\n",
       "         2.8250e-06],\n",
       "        [1.1644e-05, 1.6144e-04, 7.5846e-05,  ..., 3.3312e-05, 4.0938e-04,\n",
       "         1.5098e-06],\n",
       "        [6.4968e-06, 1.0625e-04, 2.3361e-04,  ..., 2.6374e-04, 6.0002e-05,\n",
       "         6.0084e-05]], grad_fn=<DivBackward0>)"
      ]
     },
     "execution_count": 669,
     "metadata": {},
     "output_type": "execute_result"
    }
   ],
   "source": [
    "error"
   ]
  }
 ],
 "metadata": {
  "kernelspec": {
   "display_name": "Python 3",
   "language": "python",
   "name": "python3"
  },
  "language_info": {
   "codemirror_mode": {
    "name": "ipython",
    "version": 3
   },
   "file_extension": ".py",
   "mimetype": "text/x-python",
   "name": "python",
   "nbconvert_exporter": "python",
   "pygments_lexer": "ipython3",
   "version": "3.6.7"
  }
 },
 "nbformat": 4,
 "nbformat_minor": 2
}
