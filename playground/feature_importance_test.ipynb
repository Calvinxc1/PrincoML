{
 "cells": [
  {
   "cell_type": "code",
   "execution_count": 1,
   "metadata": {},
   "outputs": [],
   "source": [
    "import pandas as pd\n",
    "import numpy as np\n",
    "from scipy.stats import gaussian_kde as kde\n",
    "import torch as pt\n",
    "from itertools import product\n",
    "import tqdm\n",
    "import matplotlib.pyplot as plt\n",
    "import seaborn as sns\n",
    "%matplotlib inline\n",
    "\n",
    "#pt.set_default_tensor_type('torch.FloatTensor')\n",
    "pt.set_default_tensor_type('torch.cuda.FloatTensor')"
   ]
  },
  {
   "cell_type": "code",
   "execution_count": 2,
   "metadata": {},
   "outputs": [],
   "source": [
    "dataset = pd.read_csv(\n",
    "    'data_files/kc_house_data.csv',\n",
    "    index_col = 'id', parse_dates = ['date'], date_parser = lambda x: pd.datetime.strptime(x, '%Y%m%dT%H%M%S')\n",
    ")\n",
    "dataset = dataset[[col for col in dataset.columns if not col.endswith('15')]]\n",
    "feature_cols = ['sqft_living', 'bedrooms', 'bathrooms']\n",
    "target_cols = ['price']\n",
    "dataset[target_cols] = np.log(dataset[target_cols])"
   ]
  },
  {
   "cell_type": "code",
   "execution_count": 3,
   "metadata": {},
   "outputs": [],
   "source": [
    "alpha = 0.1\n",
    "beta = 0.001\n",
    "clamp = 1e-16\n",
    "grad_smooth = 0\n",
    "grad_sq_smooth = 0\n",
    "learn_rate = 1e-2\n",
    "\n",
    "feature_tensor = pt.from_numpy(dataset[feature_cols].values).type(pt.Tensor)\n",
    "target_tensor = pt.from_numpy(dataset[target_cols].values).type(pt.Tensor)\n",
    "coefs = pt.zeros(len(feature_cols) + 1, len(target_cols))"
   ]
  },
  {
   "cell_type": "code",
   "execution_count": null,
   "metadata": {},
   "outputs": [
    {
     "data": {
      "application/vnd.jupyter.widget-view+json": {
       "model_id": "4ddade74edb44b7095e9b02cce98a21f",
       "version_major": 2,
       "version_minor": 0
      },
      "text/plain": [
       "HBox(children=(IntProgress(value=0, max=10000), HTML(value='')))"
      ]
     },
     "metadata": {},
     "output_type": "display_data"
    }
   ],
   "source": [
    "t = tqdm.tnrange(10000)\n",
    "loss_rcd = []\n",
    "for i in t:\n",
    "    coefs.requires_grad = True\n",
    "    predict_tensor = (feature_tensor @ coefs[1:, :]) + coefs[0, :]\n",
    "    error = (target_tensor - predict_tensor) ** 2\n",
    "    loss = pt.sqrt(error.mean(dim = 0)).sum()\n",
    "    \n",
    "    loss_rcd.append(loss.detach().cpu().numpy())\n",
    "    t.set_postfix({'loss': loss_rcd[-1]})\n",
    "    \n",
    "    grad = pt.autograd.grad(loss, coefs)[0]\n",
    "    with pt.no_grad():\n",
    "        grad_smooth = (alpha * grad) + ((1 - alpha) * grad_smooth)\n",
    "        grad_sq_smooth = (beta * (grad ** 2)) + ((1 - beta) * grad_sq_smooth)\n",
    "\n",
    "        alpha_scaler = 1 - (alpha ** (i+1))\n",
    "        beta_scaler = 1 - (beta ** (i+1))\n",
    "        \n",
    "        learn_step = (\n",
    "            grad_smooth / alpha_scaler\n",
    "        ) / pt.clamp(\n",
    "            pt.sqrt(grad_sq_smooth / beta_scaler),\n",
    "        clamp, np.inf)\n",
    "        \n",
    "        coefs = coefs - (learn_step * (learn_rate / grad.size()[0]))"
   ]
  },
  {
   "cell_type": "code",
   "execution_count": 29,
   "metadata": {},
   "outputs": [
    {
     "data": {
      "application/vnd.jupyter.widget-view+json": {
       "model_id": "d573f5ff9e7c46feb1d4b28f3668892b",
       "version_major": 2,
       "version_minor": 0
      },
      "text/plain": [
       "HBox(children=(IntProgress(value=0, max=8), HTML(value='')))"
      ]
     },
     "metadata": {},
     "output_type": "display_data"
    },
    {
     "data": {
      "application/vnd.jupyter.widget-view+json": {
       "model_id": "",
       "version_major": 2,
       "version_minor": 0
      },
      "text/plain": [
       "HBox(children=(IntProgress(value=0), HTML(value='')))"
      ]
     },
     "metadata": {},
     "output_type": "display_data"
    },
    {
     "data": {
      "application/vnd.jupyter.widget-view+json": {
       "model_id": "",
       "version_major": 2,
       "version_minor": 0
      },
      "text/plain": [
       "HBox(children=(IntProgress(value=0), HTML(value='')))"
      ]
     },
     "metadata": {},
     "output_type": "display_data"
    },
    {
     "data": {
      "application/vnd.jupyter.widget-view+json": {
       "model_id": "",
       "version_major": 2,
       "version_minor": 0
      },
      "text/plain": [
       "HBox(children=(IntProgress(value=0), HTML(value='')))"
      ]
     },
     "metadata": {},
     "output_type": "display_data"
    },
    {
     "data": {
      "application/vnd.jupyter.widget-view+json": {
       "model_id": "",
       "version_major": 2,
       "version_minor": 0
      },
      "text/plain": [
       "HBox(children=(IntProgress(value=0), HTML(value='')))"
      ]
     },
     "metadata": {},
     "output_type": "display_data"
    },
    {
     "data": {
      "application/vnd.jupyter.widget-view+json": {
       "model_id": "",
       "version_major": 2,
       "version_minor": 0
      },
      "text/plain": [
       "HBox(children=(IntProgress(value=0), HTML(value='')))"
      ]
     },
     "metadata": {},
     "output_type": "display_data"
    },
    {
     "data": {
      "application/vnd.jupyter.widget-view+json": {
       "model_id": "",
       "version_major": 2,
       "version_minor": 0
      },
      "text/plain": [
       "HBox(children=(IntProgress(value=0), HTML(value='')))"
      ]
     },
     "metadata": {},
     "output_type": "display_data"
    },
    {
     "data": {
      "application/vnd.jupyter.widget-view+json": {
       "model_id": "",
       "version_major": 2,
       "version_minor": 0
      },
      "text/plain": [
       "HBox(children=(IntProgress(value=0), HTML(value='')))"
      ]
     },
     "metadata": {},
     "output_type": "display_data"
    },
    {
     "data": {
      "application/vnd.jupyter.widget-view+json": {
       "model_id": "",
       "version_major": 2,
       "version_minor": 0
      },
      "text/plain": [
       "HBox(children=(IntProgress(value=0), HTML(value='')))"
      ]
     },
     "metadata": {},
     "output_type": "display_data"
    },
    {
     "name": "stdout",
     "output_type": "stream",
     "text": [
      "\n"
     ]
    }
   ],
   "source": [
    "t1 = tqdm.tqdm_notebook(list(product(*[(False, True)] * len(feature_cols))))\n",
    "loss_record = []\n",
    "for col_shuffle in t1:\n",
    "    iter_losses = []\n",
    "    t2 = tqdm.tnrange(100, leave = False)\n",
    "    for i in t2:\n",
    "        shuffle_tensor = []\n",
    "        for col_idx in range(len(feature_cols)):\n",
    "            if col_shuffle[col_idx]:\n",
    "                shuffle_tensor.append(feature_tensor[pt.randperm(feature_tensor.size()[0]),col_idx])\n",
    "            else:\n",
    "                shuffle_tensor.append(feature_tensor[:,col_idx])\n",
    "        shuffle_tensor = pt.stack(shuffle_tensor, dim = 1)\n",
    "        \n",
    "        predict_tensor = (shuffle_tensor @ coefs[1:,:]) + coefs[0,:]\n",
    "        error = (target_tensor - predict_tensor) ** 2\n",
    "        loss = pt.sqrt(error.mean())\n",
    "        iter_losses.append(loss.detach().cpu().numpy())\n",
    "    iter_losses = np.stack(iter_losses)\n",
    "    loss_record.append((col_shuffle, iter_losses))"
   ]
  },
  {
   "cell_type": "code",
   "execution_count": 30,
   "metadata": {},
   "outputs": [
    {
     "data": {
      "text/plain": [
       "<matplotlib.legend.Legend at 0x7faf01724f98>"
      ]
     },
     "execution_count": 30,
     "metadata": {},
     "output_type": "execute_result"
    },
    {
     "data": {
      "image/png": "[encoded data removed]",
      "text/plain": [
       "<Figure size 1152x720 with 1 Axes>"
      ]
     },
     "metadata": {},
     "output_type": "display_data"
    }
   ],
   "source": [
    "step = 1e-4\n",
    "x = np.arange(np.stack([loss[1] for loss in loss_record]).min(), np.stack([loss[1] for loss in loss_record]).max()+step, step)\n",
    "plt.figure(figsize=(16,10))\n",
    "for loss_cat, losses in loss_record:\n",
    "    if np.stack(loss_cat).sum() == 0:\n",
    "        plt.axvline(losses[0], label = '%s-%s-%s' % loss_cat)\n",
    "    else:\n",
    "        y = kde(losses).pdf(x)\n",
    "        y /= y.sum()\n",
    "        plt.plot(x, y, label = '%s-%s-%s' % loss_cat)\n",
    "plt.legend()"
   ]
  },
  {
   "cell_type": "code",
   "execution_count": 31,
   "metadata": {},
   "outputs": [
    {
     "data": {
      "text/plain": [
       "[((False, False, False), 0.4045873, 0.0),\n",
       " ((False, False, True), 0.41367686, 0.00027050177),\n",
       " ((False, True, False), 0.40640882, 0.00030053646),\n",
       " ((False, True, True), 0.41286156, 0.00042571887),\n",
       " ((True, False, False), 0.6184751, 0.0015581368),\n",
       " ((True, False, True), 0.6394327, 0.0016159366),\n",
       " ((True, True, False), 0.60551846, 0.0019864773),\n",
       " ((True, True, True), 0.62599623, 0.001672248)]"
      ]
     },
     "execution_count": 31,
     "metadata": {},
     "output_type": "execute_result"
    }
   ],
   "source": [
    "[(loss[0], loss[1].mean(), loss[1].std()) for loss in loss_record]"
   ]
  }
 ],
 "metadata": {
  "kernelspec": {
   "display_name": "Python 3",
   "language": "python",
   "name": "python3"
  },
  "language_info": {
   "codemirror_mode": {
    "name": "ipython",
    "version": 3
   },
   "file_extension": ".py",
   "mimetype": "text/x-python",
   "name": "python",
   "nbconvert_exporter": "python",
   "pygments_lexer": "ipython3",
   "version": "3.6.7"
  }
 },
 "nbformat": 4,
 "nbformat_minor": 2
}
