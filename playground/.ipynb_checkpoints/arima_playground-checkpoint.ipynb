{
 "cells": [
  {
   "cell_type": "code",
   "execution_count": 1,
   "metadata": {},
   "outputs": [],
   "source": [
    "import pandas as pd\n",
    "import numpy as np\n",
    "from scipy.special import factorial\n",
    "import torch as pt\n",
    "import tqdm\n",
    "import matplotlib.pyplot as plt\n",
    "import seaborn as sns\n",
    "from statsmodels.tsa.arima_model import ARIMA\n",
    "import ujson as js\n",
    "import mysql.connector as mdb\n",
    "\n",
    "pt.set_default_tensor_type('torch.FloatTensor')\n",
    "#pt.set_default_tensor_type('torch.cuda.FloatTensor')\n",
    "pd.set_option('display.max_rows', 2000)"
   ]
  },
  {
   "cell_type": "code",
   "execution_count": 2,
   "metadata": {},
   "outputs": [],
   "source": [
    "def calc_grads(loss, coefs):\n",
    "    coef_names = []\n",
    "    coef_vals = []\n",
    "    for coef_name, coef_val in coefs.items():\n",
    "        coef_names.append(coef_name)\n",
    "        coef_vals.append(coef_val)\n",
    "\n",
    "    new_grad = pt.autograd.grad(loss, coef_vals, retain_graph = True)\n",
    "\n",
    "    gradients = {}\n",
    "    for coef_name, coef_grad in zip(coef_names, new_grad):\n",
    "        gradients[coef_name] = coef_grad\n",
    "\n",
    "    return gradients"
   ]
  },
  {
   "cell_type": "code",
   "execution_count": 3,
   "metadata": {},
   "outputs": [],
   "source": [
    "with open('conn_params.json') as file:\n",
    "    conn_params = js.load(file)"
   ]
  },
  {
   "cell_type": "code",
   "execution_count": 4,
   "metadata": {},
   "outputs": [],
   "source": [
    "conn = mdb.connect(**conn_params)"
   ]
  },
  {
   "cell_type": "code",
   "execution_count": 5,
   "metadata": {},
   "outputs": [],
   "source": [
    "sql_code = \"\"\"\n",
    "SELECT MarketRecord.record_date,\n",
    "\tMarketRecord.type_id,\n",
    "\tTypes.type_name,\n",
    "\tMarketRecord.region_id,\n",
    "\tMapRegions.region_name,\n",
    "\tMarketRecord.order_count,\n",
    "\tMarketRecord.volume,\n",
    "\tMarketRecord.low_price,\n",
    "\tMarketRecord.avg_price,\n",
    "\tMarketRecord.high_price\n",
    "FROM MarketRecord\n",
    "JOIN Types\n",
    "\tON MarketRecord.type_id = Types.type_id\n",
    "JOIN MapRegions\n",
    "\tON MarketRecord.region_id = MapRegions.region_id\n",
    "WHERE MarketRecord.type_id IN (%s)\n",
    "\tAND MarketRecord.region_id IN (%s)\n",
    ";\"\"\""
   ]
  },
  {
   "cell_type": "code",
   "execution_count": 6,
   "metadata": {},
   "outputs": [],
   "source": [
    "dataset = pd.read_sql(\n",
    "    sql_code % (\n",
    "        ','.join([str(x) for x in [34,35,36,37,38,39,40]]),\n",
    "        10000002\n",
    "    ),\n",
    "    conn\n",
    ")\n",
    "conn.close()\n",
    "dataset['record_date'] = pd.to_datetime(dataset['record_date'])"
   ]
  },
  {
   "cell_type": "code",
   "execution_count": 7,
   "metadata": {},
   "outputs": [],
   "source": [
    "group_cols = ['type_name']\n",
    "idx_col = 'record_date'\n",
    "data_cols = ['volume', 'avg_price']\n",
    "\n",
    "root_data = pd.DataFrame(\n",
    "    index = pd.date_range(\n",
    "        dataset[idx_col].min(),\n",
    "        dataset[idx_col].max()\n",
    "    )\n",
    ")\n",
    "working_data = root_data.copy()"
   ]
  },
  {
   "cell_type": "code",
   "execution_count": 8,
   "metadata": {},
   "outputs": [],
   "source": [
    "for group, data in dataset.groupby(group_cols):\n",
    "    group = group if type(group) is tuple else (group,)\n",
    "    for data_col in data_cols:\n",
    "        data_item = root_data.join(\n",
    "            data.set_index(idx_col)[data_col],\n",
    "            how = 'left'\n",
    "        )\n",
    "        working_data.insert(\n",
    "            len(working_data.columns),\n",
    "            '%s|%s' % (\n",
    "                '_'.join([str(x) for x in group]),\n",
    "                data_col\n",
    "            ),\n",
    "            data_item\n",
    "        )"
   ]
  },
  {
   "cell_type": "code",
   "execution_count": 9,
   "metadata": {},
   "outputs": [],
   "source": [
    "working_data[[\n",
    "    col for col in working_data.columns if col.endswith('|avg_price')\n",
    "]] = working_data[[\n",
    "    col for col in working_data.columns if col.endswith('|avg_price')\n",
    "]].fillna(method = 'ffill').fillna(method = 'bfill')\n",
    "working_data[[\n",
    "    col for col in working_data.columns if col.endswith('|volume')\n",
    "]] = working_data[[\n",
    "    col for col in working_data.columns if col.endswith('|volume')\n",
    "]].fillna(0)"
   ]
  },
  {
   "cell_type": "code",
   "execution_count": 59,
   "metadata": {},
   "outputs": [],
   "source": [
    "derivs = 2\n",
    "horizon = 7\n",
    "\n",
    "data_tensor = pt.from_numpy(working_data[[col for col in working_data.columns if col.endswith('|avg_price')]].values).type(pt.Tensor)\n",
    "coefs = {\n",
    "    'state': pt.zeros(derivs+1,data_tensor.shape[1])\n",
    "}\n",
    "\n",
    "learn_rate = 1e-0\n",
    "alpha = 0.2\n",
    "beta = 0.1\n",
    "grad = {}\n",
    "grad_sq = {}\n",
    "clamp = 1e-16\n",
    "\n",
    "loss_rcd = []"
   ]
  },
  {
   "cell_type": "code",
   "execution_count": 60,
   "metadata": {},
   "outputs": [
    {
     "data": {
      "application/vnd.jupyter.widget-view+json": {
       "model_id": "52395ec7f39c4a629fef3b8609bbfd89",
       "version_major": 2,
       "version_minor": 0
      },
      "text/plain": [
       "HBox(children=(IntProgress(value=0, max=250), HTML(value='')))"
      ]
     },
     "metadata": {},
     "output_type": "display_data"
    }
   ],
   "source": [
    "t = tqdm.tnrange(250)\n",
    "for e in t:\n",
    "    for value in coefs.values(): value.requires_grad = True\n",
    "    coefs_proc = {}\n",
    "    for key, value in coefs.items():\n",
    "        if key in ('state',):\n",
    "            coefs_proc[key] = pt.sigmoid(value)\n",
    "        else:\n",
    "            coefs_proc[key] = value\n",
    "\n",
    "    state = [pt.stack([data_tensor[0,:], *([pt.zeros(data_tensor.shape[1])] * (derivs))], dim=0)]\n",
    "    state_actual = [pt.stack([data_tensor[0,:], *([pt.zeros(data_tensor.shape[1])] * (derivs))], dim=0)]\n",
    "    updater = np.stack([1 / factorial(i) for i in range(derivs+1)])\n",
    "    updater = pt.from_numpy(np.stack([\n",
    "        updater,\n",
    "        *[\n",
    "            np.pad(updater[:-j], (j,0), 'constant', constant_values = 0)\n",
    "            for j in range(1,derivs+1)\n",
    "        ]\n",
    "    ], axis = 0)).type(pt.Tensor)\n",
    "    \n",
    "    for new_vals in data_tensor[1:,:]:\n",
    "        predict_state = updater @ state[-1]\n",
    "        new_state = [(\n",
    "            coefs_proc['state'][0,:] * new_vals\n",
    "        ) + (\n",
    "            (1-coefs_proc['state'][0,:]) * predict_state[0,:]\n",
    "        )]\n",
    "        for d in range(1,derivs+1):\n",
    "            new_state.append((\n",
    "                    coefs_proc['state'][d,:] * (new_state[-1] - state[-1][d-1,:])\n",
    "                ) + (\n",
    "                    (1-coefs_proc['state'][d,:]) * predict_state[d,:]\n",
    "            ))\n",
    "        new_state = pt.stack(new_state, dim=0)\n",
    "        state.append(new_state)\n",
    "    state = pt.stack(state, dim=0)\n",
    "    \n",
    "    errors = []\n",
    "    predictor = state.clone()\n",
    "    for h in range(1,horizon+1):\n",
    "        predictor = updater @ predictor\n",
    "        predict = pt.clamp(predictor[:-h,0,:],0.01,np.inf)\n",
    "        actual = data_tensor[h:,:]\n",
    "        error = pt.sqrt((pt.log(predict / actual)**2).mean(dim=0))\n",
    "        errors.append(error)\n",
    "    errors = pt.stack(errors,dim=0)\n",
    "    loss = pt.log(errors).mean()\n",
    "    loss_rcd.append(loss.detach().cpu().numpy())\n",
    "    t.set_postfix({'loss': loss_rcd[-1]})\n",
    "\n",
    "    gradient = calc_grads(loss, coefs)\n",
    "\n",
    "    with pt.no_grad():\n",
    "        for key, value in gradient.items():\n",
    "            grad[key] = (alpha * value) + ((1-alpha) * grad.get(key, value))\n",
    "            grad_sq[key] = (beta * (value**2)) + ((1-beta) * grad_sq.get(key, value**2))\n",
    "            learn_step = grad[key] / pt.clamp(pt.sqrt(grad_sq[key]), clamp, np.inf)\n",
    "            coefs[key] = coefs[key] - (learn_step * learn_rate / (derivs+1))"
   ]
  },
  {
   "cell_type": "code",
   "execution_count": 61,
   "metadata": {},
   "outputs": [
    {
     "data": {
      "text/plain": [
       "[<matplotlib.lines.Line2D at 0x7f9b9186d438>]"
      ]
     },
     "execution_count": 61,
     "metadata": {},
     "output_type": "execute_result"
    },
    {
     "data": {
      "image/png": "[encoded data removed]",
      "text/plain": [
       "<Figure size 1152x720 with 1 Axes>"
      ]
     },
     "metadata": {
      "needs_background": "light"
     },
     "output_type": "display_data"
    }
   ],
   "source": [
    "plt.figure(figsize=(16,10))\n",
    "plt.plot(loss_rcd)"
   ]
  },
  {
   "cell_type": "code",
   "execution_count": 67,
   "metadata": {},
   "outputs": [
    {
     "data": {
      "text/html": [
       "<div>\n",
       "<style scoped>\n",
       "    .dataframe tbody tr th:only-of-type {\n",
       "        vertical-align: middle;\n",
       "    }\n",
       "\n",
       "    .dataframe tbody tr th {\n",
       "        vertical-align: top;\n",
       "    }\n",
       "\n",
       "    .dataframe thead th {\n",
       "        text-align: right;\n",
       "    }\n",
       "</style>\n",
       "<table border=\"1\" class=\"dataframe\">\n",
       "  <thead>\n",
       "    <tr style=\"text-align: right;\">\n",
       "      <th></th>\n",
       "      <th>Isogen</th>\n",
       "      <th>Megacyte</th>\n",
       "      <th>Mexallon</th>\n",
       "      <th>Nocxium</th>\n",
       "      <th>Pyerite</th>\n",
       "      <th>Tritanium</th>\n",
       "      <th>Zydrine</th>\n",
       "    </tr>\n",
       "  </thead>\n",
       "  <tbody>\n",
       "    <tr>\n",
       "      <th>0</th>\n",
       "      <td>0.024585</td>\n",
       "      <td>0.035028</td>\n",
       "      <td>0.020577</td>\n",
       "      <td>0.025232</td>\n",
       "      <td>0.024712</td>\n",
       "      <td>0.020616</td>\n",
       "      <td>0.025760</td>\n",
       "    </tr>\n",
       "    <tr>\n",
       "      <th>1</th>\n",
       "      <td>0.031087</td>\n",
       "      <td>0.041105</td>\n",
       "      <td>0.026149</td>\n",
       "      <td>0.031228</td>\n",
       "      <td>0.030133</td>\n",
       "      <td>0.026131</td>\n",
       "      <td>0.032510</td>\n",
       "    </tr>\n",
       "    <tr>\n",
       "      <th>2</th>\n",
       "      <td>0.036072</td>\n",
       "      <td>0.047870</td>\n",
       "      <td>0.030241</td>\n",
       "      <td>0.036448</td>\n",
       "      <td>0.033434</td>\n",
       "      <td>0.029469</td>\n",
       "      <td>0.037150</td>\n",
       "    </tr>\n",
       "    <tr>\n",
       "      <th>3</th>\n",
       "      <td>0.040002</td>\n",
       "      <td>0.052525</td>\n",
       "      <td>0.033622</td>\n",
       "      <td>0.040441</td>\n",
       "      <td>0.035841</td>\n",
       "      <td>0.032083</td>\n",
       "      <td>0.041221</td>\n",
       "    </tr>\n",
       "    <tr>\n",
       "      <th>4</th>\n",
       "      <td>0.043279</td>\n",
       "      <td>0.057025</td>\n",
       "      <td>0.036585</td>\n",
       "      <td>0.043977</td>\n",
       "      <td>0.038050</td>\n",
       "      <td>0.034299</td>\n",
       "      <td>0.045132</td>\n",
       "    </tr>\n",
       "    <tr>\n",
       "      <th>5</th>\n",
       "      <td>0.046440</td>\n",
       "      <td>0.060651</td>\n",
       "      <td>0.039271</td>\n",
       "      <td>0.046909</td>\n",
       "      <td>0.039861</td>\n",
       "      <td>0.037026</td>\n",
       "      <td>0.048969</td>\n",
       "    </tr>\n",
       "    <tr>\n",
       "      <th>6</th>\n",
       "      <td>0.049198</td>\n",
       "      <td>0.064236</td>\n",
       "      <td>0.042117</td>\n",
       "      <td>0.049593</td>\n",
       "      <td>0.041584</td>\n",
       "      <td>0.039350</td>\n",
       "      <td>0.052477</td>\n",
       "    </tr>\n",
       "  </tbody>\n",
       "</table>\n",
       "</div>"
      ],
      "text/plain": [
       "     Isogen  Megacyte  Mexallon   Nocxium   Pyerite  Tritanium   Zydrine\n",
       "0  0.024585  0.035028  0.020577  0.025232  0.024712   0.020616  0.025760\n",
       "1  0.031087  0.041105  0.026149  0.031228  0.030133   0.026131  0.032510\n",
       "2  0.036072  0.047870  0.030241  0.036448  0.033434   0.029469  0.037150\n",
       "3  0.040002  0.052525  0.033622  0.040441  0.035841   0.032083  0.041221\n",
       "4  0.043279  0.057025  0.036585  0.043977  0.038050   0.034299  0.045132\n",
       "5  0.046440  0.060651  0.039271  0.046909  0.039861   0.037026  0.048969\n",
       "6  0.049198  0.064236  0.042117  0.049593  0.041584   0.039350  0.052477"
      ]
     },
     "execution_count": 67,
     "metadata": {},
     "output_type": "execute_result"
    }
   ],
   "source": [
    "pd.DataFrame(\n",
    "    errors.detach().cpu().numpy(),\n",
    "    columns = [\n",
    "        col.replace('|avg_price', '')\n",
    "        for col in working_data.columns\n",
    "        if col.endswith('|avg_price')\n",
    "    ]\n",
    ")"
   ]
  },
  {
   "cell_type": "code",
   "execution_count": 68,
   "metadata": {},
   "outputs": [
    {
     "data": {
      "text/html": [
       "<div>\n",
       "<style scoped>\n",
       "    .dataframe tbody tr th:only-of-type {\n",
       "        vertical-align: middle;\n",
       "    }\n",
       "\n",
       "    .dataframe tbody tr th {\n",
       "        vertical-align: top;\n",
       "    }\n",
       "\n",
       "    .dataframe thead th {\n",
       "        text-align: right;\n",
       "    }\n",
       "</style>\n",
       "<table border=\"1\" class=\"dataframe\">\n",
       "  <thead>\n",
       "    <tr style=\"text-align: right;\">\n",
       "      <th></th>\n",
       "      <th>Isogen</th>\n",
       "      <th>Megacyte</th>\n",
       "      <th>Mexallon</th>\n",
       "      <th>Nocxium</th>\n",
       "      <th>Pyerite</th>\n",
       "      <th>Tritanium</th>\n",
       "      <th>Zydrine</th>\n",
       "    </tr>\n",
       "  </thead>\n",
       "  <tbody>\n",
       "    <tr>\n",
       "      <th>0</th>\n",
       "      <td>0.696310</td>\n",
       "      <td>0.665588</td>\n",
       "      <td>7.227844e-01</td>\n",
       "      <td>0.672755</td>\n",
       "      <td>0.492498</td>\n",
       "      <td>6.604641e-01</td>\n",
       "      <td>0.741227</td>\n",
       "    </tr>\n",
       "    <tr>\n",
       "      <th>1</th>\n",
       "      <td>0.001333</td>\n",
       "      <td>0.000332</td>\n",
       "      <td>3.958525e-08</td>\n",
       "      <td>0.001148</td>\n",
       "      <td>0.002180</td>\n",
       "      <td>7.042512e-08</td>\n",
       "      <td>0.000002</td>\n",
       "    </tr>\n",
       "    <tr>\n",
       "      <th>2</th>\n",
       "      <td>0.011775</td>\n",
       "      <td>0.000005</td>\n",
       "      <td>6.367196e-04</td>\n",
       "      <td>0.007861</td>\n",
       "      <td>0.008519</td>\n",
       "      <td>4.855375e-04</td>\n",
       "      <td>0.000143</td>\n",
       "    </tr>\n",
       "  </tbody>\n",
       "</table>\n",
       "</div>"
      ],
      "text/plain": [
       "     Isogen  Megacyte      Mexallon   Nocxium   Pyerite     Tritanium  \\\n",
       "0  0.696310  0.665588  7.227844e-01  0.672755  0.492498  6.604641e-01   \n",
       "1  0.001333  0.000332  3.958525e-08  0.001148  0.002180  7.042512e-08   \n",
       "2  0.011775  0.000005  6.367196e-04  0.007861  0.008519  4.855375e-04   \n",
       "\n",
       "    Zydrine  \n",
       "0  0.741227  \n",
       "1  0.000002  \n",
       "2  0.000143  "
      ]
     },
     "execution_count": 68,
     "metadata": {},
     "output_type": "execute_result"
    }
   ],
   "source": [
    "pd.DataFrame(\n",
    "    pt.sigmoid(coefs['state']).detach().cpu().numpy(),\n",
    "    columns = [\n",
    "        col.replace('|avg_price', '')\n",
    "        for col in working_data.columns\n",
    "        if col.endswith('|avg_price')\n",
    "    ]\n",
    ")"
   ]
  },
  {
   "cell_type": "code",
   "execution_count": 64,
   "metadata": {},
   "outputs": [
    {
     "data": {
      "text/plain": [
       "[<matplotlib.lines.Line2D at 0x7f9b9183acf8>]"
      ]
     },
     "execution_count": 64,
     "metadata": {},
     "output_type": "execute_result"
    },
    {
     "data": {
      "image/png": "[encoded data removed]",
      "text/plain": [
       "<Figure size 1152x720 with 1 Axes>"
      ]
     },
     "metadata": {
      "needs_background": "light"
     },
     "output_type": "display_data"
    }
   ],
   "source": [
    "idx = 6\n",
    "plt.figure(figsize=(16,10))\n",
    "plt.plot(data_tensor[:,idx].detach().cpu().numpy())\n",
    "plt.plot(state[:,0,idx].detach().cpu().numpy())"
   ]
  }
 ],
 "metadata": {
  "kernelspec": {
   "display_name": "Python 3",
   "language": "python",
   "name": "python3"
  },
  "language_info": {
   "codemirror_mode": {
    "name": "ipython",
    "version": 3
   },
   "file_extension": ".py",
   "mimetype": "text/x-python",
   "name": "python",
   "nbconvert_exporter": "python",
   "pygments_lexer": "ipython3",
   "version": "3.6.7"
  }
 },
 "nbformat": 4,
 "nbformat_minor": 2
}
