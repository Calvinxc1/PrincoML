{
 "cells": [
  {
   "cell_type": "code",
   "execution_count": 21,
   "metadata": {},
   "outputs": [],
   "source": [
    "import pandas as pd\n",
    "import numpy as np\n",
    "import torch as pt\n",
    "import tqdm\n",
    "import matplotlib.pyplot as plt\n",
    "%matplotlib inline\n",
    "\n",
    "#pt.set_default_tensor_type('torch.FloatTensor')\n",
    "pt.set_default_tensor_type('torch.cuda.FloatTensor')"
   ]
  },
  {
   "cell_type": "code",
   "execution_count": 22,
   "metadata": {},
   "outputs": [],
   "source": [
    "dataset = pd.read_csv(\n",
    "    'data_files/kc_house_data.csv',\n",
    "    index_col = 'id', parse_dates = ['date'], date_parser = lambda x: pd.datetime.strptime(x, '%Y%m%dT%H%M%S')\n",
    ")\n",
    "dataset = dataset[[col for col in dataset.columns if not col.endswith('15')]]\n",
    "feature_cols = ['sqft_living', 'bedrooms', 'bathrooms']\n",
    "target_cols = ['price']\n",
    "dataset[target_cols] = np.log(dataset[target_cols])"
   ]
  },
  {
   "cell_type": "code",
   "execution_count": 27,
   "metadata": {},
   "outputs": [],
   "source": [
    "alpha = 0.1\n",
    "beta = 0.001\n",
    "clamp = 1e-16\n",
    "grad_smooth = 0\n",
    "grad_sq_smooth = 0\n",
    "learn_rate = 1e-2\n",
    "\n",
    "feature_tensor = pt.from_numpy(dataset[feature_cols].values).type(pt.Tensor)\n",
    "target_tensor = pt.from_numpy(dataset[target_cols].values).type(pt.Tensor)\n",
    "coefs = pt.zeros(len(feature_cols) + 1, len(target_cols))"
   ]
  },
  {
   "cell_type": "code",
   "execution_count": 31,
   "metadata": {},
   "outputs": [
    {
     "data": {
      "application/vnd.jupyter.widget-view+json": {
       "model_id": "1d2415db9bdd47c48d5f860c1b613435",
       "version_major": 2,
       "version_minor": 0
      },
      "text/plain": [
       "HBox(children=(IntProgress(value=0, max=10000), HTML(value='')))"
      ]
     },
     "metadata": {},
     "output_type": "display_data"
    },
    {
     "name": "stdout",
     "output_type": "stream",
     "text": [
      "\n"
     ]
    }
   ],
   "source": [
    "t = tqdm.tnrange(10000)\n",
    "loss_rcd = []\n",
    "for i in t:\n",
    "    coefs.requires_grad = True\n",
    "    predict_tensor = (feature_tensor @ coefs[1:, :]) + coefs[0, :]\n",
    "    error = (target_tensor - predict_tensor) ** 2\n",
    "    loss = pt.sqrt(error.mean(dim = 0)).sum()\n",
    "    \n",
    "    loss_rcd.append(loss.detach().cpu().numpy())\n",
    "    t.set_postfix({'loss': loss_rcd[-1]})\n",
    "    \n",
    "    grad = pt.autograd.grad(loss, coefs)[0]\n",
    "    with pt.no_grad():\n",
    "        grad_smooth = (alpha * grad) + ((1 - alpha) * grad_smooth)\n",
    "        grad_sq_smooth = (beta * (grad ** 2)) + ((1 - beta) * grad_sq_smooth)\n",
    "\n",
    "        alpha_scaler = 1 - (alpha ** (i+1))\n",
    "        beta_scaler = 1 - (beta ** (i+1))\n",
    "        \n",
    "        learn_step = (\n",
    "            grad_smooth / alpha_scaler\n",
    "        ) / pt.clamp(\n",
    "            pt.sqrt(grad_sq_smooth / beta_scaler),\n",
    "        clamp, np.inf)\n",
    "        \n",
    "        coefs = coefs - (learn_step * (learn_rate / grad.size()[0]))"
   ]
  },
  {
   "cell_type": "code",
   "execution_count": 45,
   "metadata": {},
   "outputs": [
    {
     "data": {
      "text/plain": [
       "tensor(0.4046)"
      ]
     },
     "execution_count": 45,
     "metadata": {},
     "output_type": "execute_result"
    }
   ],
   "source": [
    "predict_tensor = (feature_tensor @ coefs[1:, :]) + coefs[0, :]\n",
    "error = (target_tensor - predict_tensor) ** 2\n",
    "loss_base = pt.sqrt(error.mean(dim = 0)).sum()\n",
    "loss_base"
   ]
  },
  {
   "cell_type": "code",
   "execution_count": 56,
   "metadata": {},
   "outputs": [
    {
     "data": {
      "application/vnd.jupyter.widget-view+json": {
       "model_id": "7fc76329218b49118e69185b3d05d33a",
       "version_major": 2,
       "version_minor": 0
      },
      "text/plain": [
       "HBox(children=(IntProgress(value=0, max=3), HTML(value='')))"
      ]
     },
     "metadata": {},
     "output_type": "display_data"
    },
    {
     "data": {
      "application/vnd.jupyter.widget-view+json": {
       "model_id": "",
       "version_major": 2,
       "version_minor": 0
      },
      "text/plain": [
       "HBox(children=(IntProgress(value=0, max=10000), HTML(value='')))"
      ]
     },
     "metadata": {},
     "output_type": "display_data"
    },
    {
     "data": {
      "application/vnd.jupyter.widget-view+json": {
       "model_id": "",
       "version_major": 2,
       "version_minor": 0
      },
      "text/plain": [
       "HBox(children=(IntProgress(value=0, max=10000), HTML(value='')))"
      ]
     },
     "metadata": {},
     "output_type": "display_data"
    },
    {
     "data": {
      "application/vnd.jupyter.widget-view+json": {
       "model_id": "",
       "version_major": 2,
       "version_minor": 0
      },
      "text/plain": [
       "HBox(children=(IntProgress(value=0, max=10000), HTML(value='')))"
      ]
     },
     "metadata": {},
     "output_type": "display_data"
    },
    {
     "name": "stdout",
     "output_type": "stream",
     "text": [
      "\n"
     ]
    }
   ],
   "source": [
    "feature_import = []\n",
    "for j in tqdm.tnrange(feature_tensor.size()[1]):\n",
    "    loss_perms = []\n",
    "    for i in tqdm.tnrange(10000, leave = False):\n",
    "        perm_tensor = []\n",
    "        permute = 0\n",
    "        for i in range(feature_tensor.size()[1]):\n",
    "            if i == permute:\n",
    "                perm_tensor.append(feature_tensor[pt.randperm(feature_tensor.size()[0]), i])\n",
    "            else:\n",
    "                perm_tensor.append(feature_tensor[:, i])\n",
    "        perm_tensor = pt.stack(perm_tensor, dim = 1)\n",
    "\n",
    "        predict_perm = (perm_tensor @ coefs[1:, :]) + coefs[0, :]\n",
    "        error_perm = (target_tensor - predict_perm) ** 2\n",
    "        loss_perms.append(pt.sqrt(error_perm.mean(dim = 0)).sum().detach().cpu().numpy())\n",
    "    feature_import.append(np.stack(loss_perms))"
   ]
  },
  {
   "cell_type": "code",
   "execution_count": 64,
   "metadata": {},
   "outputs": [
    {
     "data": {
      "text/plain": [
       "[(0.6874954, 0.0021893294),\n",
       " (0.68746775, 0.0022249473),\n",
       " (0.6874756, 0.0021876968)]"
      ]
     },
     "execution_count": 64,
     "metadata": {},
     "output_type": "execute_result"
    }
   ],
   "source": [
    "[(feat_loss.mean(), feat_loss.std()) for feat_loss in feature_import]"
   ]
  }
 ],
 "metadata": {
  "kernelspec": {
   "display_name": "Python 3",
   "language": "python",
   "name": "python3"
  },
  "language_info": {
   "codemirror_mode": {
    "name": "ipython",
    "version": 3
   },
   "file_extension": ".py",
   "mimetype": "text/x-python",
   "name": "python",
   "nbconvert_exporter": "python",
   "pygments_lexer": "ipython3",
   "version": "3.6.7"
  }
 },
 "nbformat": 4,
 "nbformat_minor": 2
}
